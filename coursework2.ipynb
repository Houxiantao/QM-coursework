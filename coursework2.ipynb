{
 "cells": [
  {
   "cell_type": "code",
   "execution_count": 1,
   "metadata": {},
   "outputs": [],
   "source": [
    "import pandas as pd\n",
    "import matplotlib.pyplot as plt\n",
    "import numpy as np\n",
    "import seaborn as sns\n",
    "import statsmodels.api as sms"
   ]
  },
  {
   "cell_type": "code",
   "execution_count": 33,
   "metadata": {},
   "outputs": [],
   "source": [
    "data2015=pd.read_csv('201509_cleaned.csv')\n",
    "data2017=pd.read_csv('201703_cleaned.csv')\n",
    "data2019=pd.read_csv('201912_cleaned.csv')"
   ]
  },
  {
   "cell_type": "code",
   "execution_count": 34,
   "metadata": {},
   "outputs": [],
   "source": [
    "datah = pd.read_csv('house1.csv')"
   ]
  },
  {
   "cell_type": "code",
   "execution_count": 7,
   "metadata": {},
   "outputs": [
    {
     "name": "stdout",
     "output_type": "stream",
     "text": [
      "['Kingston upon Thames' 'Croydon' 'Bromley' 'Hounslow' 'Ealing' 'Havering'\n",
      " 'Hillingdon' 'Harrow' 'Brent' 'Barnet' 'Enfield' 'Waltham Forest'\n",
      " 'Redbridge' 'Sutton' 'Lambeth' 'Southwark' 'Lewisham' 'Greenwich'\n",
      " 'Bexley' 'Richmond upon Thames' 'Merton' 'Wandsworth'\n",
      " 'Hammersmith and Fulham' 'Kensington and Chelsea' 'City of London'\n",
      " 'Westminster' 'Camden' 'Tower Hamlets' 'Islington' 'Hackney' 'Haringey'\n",
      " 'Newham' 'Barking and Dagenham']\n",
      "33\n"
     ]
    }
   ],
   "source": [
    "d1=data2015['neighbourhood_cleansed'].unique()\n",
    "print(d1)\n",
    "print(len(d1))"
   ]
  },
  {
   "cell_type": "code",
   "execution_count": 35,
   "metadata": {},
   "outputs": [
    {
     "name": "stdout",
     "output_type": "stream",
     "text": [
      "['Kingston upon Thames' 'Croydon' 'Bromley' 'Hounslow' 'Ealing' 'Havering'\n",
      " 'Hillingdon' 'Harrow' 'Brent' 'Barnet' 'Enfield' 'Waltham Forest'\n",
      " 'Redbridge' 'Sutton' 'Lambeth' 'Southwark' 'Lewisham' 'Greenwich'\n",
      " 'Bexley' 'Richmond upon Thames' 'Merton' 'Wandsworth'\n",
      " 'Hammersmith and Fulham' 'Kensington and Chelsea' 'City of London'\n",
      " 'Westminster' 'Camden' 'Tower Hamlets' 'Islington' 'Hackney' 'Haringey'\n",
      " 'Newham' 'Barking and Dagenham']\n",
      "33\n"
     ]
    }
   ],
   "source": [
    "d3=data2017['neighbourhood_cleansed'].unique()\n",
    "print(d3)\n",
    "print(len(d3))"
   ]
  },
  {
   "cell_type": "code",
   "execution_count": 36,
   "metadata": {},
   "outputs": [
    {
     "name": "stdout",
     "output_type": "stream",
     "text": [
      "['Lambeth' 'Islington' 'Kensington and Chelsea' 'Westminster' 'Wandsworth'\n",
      " 'Barnet' 'Hounslow' 'Camden' 'Richmond upon Thames' 'Haringey' 'Hackney'\n",
      " 'Southwark' 'Croydon' 'Hammersmith and Fulham' 'Waltham Forest' 'Brent'\n",
      " 'Newham' 'Tower Hamlets' 'Merton' 'Lewisham' 'Bromley' 'Havering'\n",
      " 'Greenwich' 'Ealing' 'Enfield' 'City of London' 'Barking and Dagenham'\n",
      " 'Hillingdon' 'Harrow' 'Redbridge' 'Kingston upon Thames' 'Bexley'\n",
      " 'Sutton']\n",
      "33\n"
     ]
    }
   ],
   "source": [
    "d4=data2019['neighbourhood_cleansed'].unique()\n",
    "print(d4)\n",
    "print(len(d4))"
   ]
  },
  {
   "cell_type": "code",
   "execution_count": 8,
   "metadata": {},
   "outputs": [
    {
     "name": "stdout",
     "output_type": "stream",
     "text": [
      "['City of London' 'Barking and Dagenham' 'Barnet' 'Bexley' 'Brent'\n",
      " 'Bromley' 'Camden' 'Croydon' 'Ealing' 'Enfield' 'Greenwich' 'Hackney'\n",
      " 'Hammersmith and Fulham' 'Haringey' 'Harrow' 'Havering' 'Hillingdon'\n",
      " 'Hounslow' 'Islington' 'Kensington and Chelsea' 'Kingston upon Thames'\n",
      " 'Lambeth' 'Lewisham' 'Merton' 'Newham' 'Redbridge' 'Richmond upon Thames'\n",
      " 'Southwark' 'Sutton' 'Tower Hamlets' 'Waltham Forest' 'Wandsworth'\n",
      " 'Westminster']\n",
      "33\n"
     ]
    }
   ],
   "source": [
    "d2=datah[datah.Year==2015]['Area'].unique()\n",
    "print(d2)\n",
    "print(len(d2))"
   ]
  },
  {
   "cell_type": "code",
   "execution_count": 37,
   "metadata": {},
   "outputs": [],
   "source": [
    "data2015['price']=data2015['price'].str.replace('$','').str.replace(',','').astype('float')\n",
    "data2017['price']=data2017['price'].str.replace('$','').str.replace(',','').astype('float')\n",
    "data2019['price']=data2019['price'].str.replace('$','').str.replace(',','').astype('float')"
   ]
  },
  {
   "cell_type": "code",
   "execution_count": 10,
   "metadata": {},
   "outputs": [
    {
     "data": {
      "text/plain": [
       "0         80.0\n",
       "1         43.0\n",
       "2        325.0\n",
       "3         47.0\n",
       "4         25.0\n",
       "         ...  \n",
       "25356     60.0\n",
       "25357     50.0\n",
       "25358    150.0\n",
       "25359     86.0\n",
       "25360     80.0\n",
       "Name: price, Length: 25361, dtype: float64"
      ]
     },
     "execution_count": 10,
     "metadata": {},
     "output_type": "execute_result"
    }
   ],
   "source": [
    "data2015['price']"
   ]
  },
  {
   "cell_type": "code",
   "execution_count": 39,
   "metadata": {},
   "outputs": [
    {
     "data": {
      "text/plain": [
       "0         23.0\n",
       "1         50.0\n",
       "2         24.0\n",
       "3         50.0\n",
       "4         25.0\n",
       "         ...  \n",
       "53899     24.0\n",
       "53900    120.0\n",
       "53901    215.0\n",
       "53902    150.0\n",
       "53903     90.0\n",
       "Name: price, Length: 53904, dtype: float64"
      ]
     },
     "execution_count": 39,
     "metadata": {},
     "output_type": "execute_result"
    }
   ],
   "source": [
    "data2017['price']"
   ]
  },
  {
   "cell_type": "code",
   "execution_count": 40,
   "metadata": {},
   "outputs": [
    {
     "data": {
      "text/plain": [
       "0         88.0\n",
       "1         65.0\n",
       "2        100.0\n",
       "3        300.0\n",
       "4         65.0\n",
       "         ...  \n",
       "86464     70.0\n",
       "86465    130.0\n",
       "86466     50.0\n",
       "86467    100.0\n",
       "86468     80.0\n",
       "Name: price, Length: 86469, dtype: float64"
      ]
     },
     "execution_count": 40,
     "metadata": {},
     "output_type": "execute_result"
    }
   ],
   "source": [
    "data2019['price']"
   ]
  },
  {
   "cell_type": "code",
   "execution_count": 11,
   "metadata": {},
   "outputs": [
    {
     "data": {
      "text/html": [
       "<div>\n",
       "<style scoped>\n",
       "    .dataframe tbody tr th:only-of-type {\n",
       "        vertical-align: middle;\n",
       "    }\n",
       "\n",
       "    .dataframe tbody tr th {\n",
       "        vertical-align: top;\n",
       "    }\n",
       "\n",
       "    .dataframe thead th {\n",
       "        text-align: right;\n",
       "    }\n",
       "</style>\n",
       "<table border=\"1\" class=\"dataframe\">\n",
       "  <thead>\n",
       "    <tr style=\"text-align: right;\">\n",
       "      <th></th>\n",
       "      <th>id</th>\n",
       "      <th>name</th>\n",
       "      <th>host_id</th>\n",
       "      <th>host_since</th>\n",
       "      <th>host_listings_count</th>\n",
       "      <th>host_total_listings_count</th>\n",
       "      <th>neighbourhood_cleansed</th>\n",
       "      <th>latitude</th>\n",
       "      <th>longitude</th>\n",
       "      <th>property_type</th>\n",
       "      <th>...</th>\n",
       "      <th>availability_30</th>\n",
       "      <th>availability_60</th>\n",
       "      <th>availability_90</th>\n",
       "      <th>availability_365</th>\n",
       "      <th>number_of_reviews</th>\n",
       "      <th>first_review</th>\n",
       "      <th>last_review</th>\n",
       "      <th>review_scores_rating</th>\n",
       "      <th>calculated_host_listings_count</th>\n",
       "      <th>reviews_per_month</th>\n",
       "    </tr>\n",
       "  </thead>\n",
       "  <tbody>\n",
       "    <tr>\n",
       "      <th>0</th>\n",
       "      <td>375799</td>\n",
       "      <td>Luxury apartment : London/Wimbledon</td>\n",
       "      <td>1889832</td>\n",
       "      <td>2012-03-09</td>\n",
       "      <td>2.0</td>\n",
       "      <td>2.0</td>\n",
       "      <td>Kingston upon Thames</td>\n",
       "      <td>51.402958</td>\n",
       "      <td>-0.250436</td>\n",
       "      <td>Apartment</td>\n",
       "      <td>...</td>\n",
       "      <td>0</td>\n",
       "      <td>13</td>\n",
       "      <td>43</td>\n",
       "      <td>318</td>\n",
       "      <td>42</td>\n",
       "      <td>2012-05-21</td>\n",
       "      <td>2015-07-11</td>\n",
       "      <td>98.0</td>\n",
       "      <td>1</td>\n",
       "      <td>1.05</td>\n",
       "    </tr>\n",
       "    <tr>\n",
       "      <th>1</th>\n",
       "      <td>2284438</td>\n",
       "      <td>Bright and comfy double room</td>\n",
       "      <td>11629266</td>\n",
       "      <td>2014-01-25</td>\n",
       "      <td>1.0</td>\n",
       "      <td>1.0</td>\n",
       "      <td>Kingston upon Thames</td>\n",
       "      <td>51.395467</td>\n",
       "      <td>-0.309492</td>\n",
       "      <td>Apartment</td>\n",
       "      <td>...</td>\n",
       "      <td>2</td>\n",
       "      <td>32</td>\n",
       "      <td>62</td>\n",
       "      <td>337</td>\n",
       "      <td>20</td>\n",
       "      <td>2014-02-16</td>\n",
       "      <td>2015-08-19</td>\n",
       "      <td>97.0</td>\n",
       "      <td>1</td>\n",
       "      <td>1.06</td>\n",
       "    </tr>\n",
       "    <tr>\n",
       "      <th>2</th>\n",
       "      <td>4356007</td>\n",
       "      <td>Luxury victorian family homel</td>\n",
       "      <td>22611343</td>\n",
       "      <td>2014-10-16</td>\n",
       "      <td>2.0</td>\n",
       "      <td>2.0</td>\n",
       "      <td>Kingston upon Thames</td>\n",
       "      <td>51.414746</td>\n",
       "      <td>-0.289594</td>\n",
       "      <td>House</td>\n",
       "      <td>...</td>\n",
       "      <td>1</td>\n",
       "      <td>9</td>\n",
       "      <td>22</td>\n",
       "      <td>276</td>\n",
       "      <td>6</td>\n",
       "      <td>2015-04-12</td>\n",
       "      <td>2015-08-18</td>\n",
       "      <td>100.0</td>\n",
       "      <td>1</td>\n",
       "      <td>1.24</td>\n",
       "    </tr>\n",
       "    <tr>\n",
       "      <th>3</th>\n",
       "      <td>7031432</td>\n",
       "      <td>Ground floor bedroom in Kingston</td>\n",
       "      <td>36862552</td>\n",
       "      <td>2015-06-27</td>\n",
       "      <td>1.0</td>\n",
       "      <td>1.0</td>\n",
       "      <td>Kingston upon Thames</td>\n",
       "      <td>51.428335</td>\n",
       "      <td>-0.303721</td>\n",
       "      <td>House</td>\n",
       "      <td>...</td>\n",
       "      <td>0</td>\n",
       "      <td>0</td>\n",
       "      <td>0</td>\n",
       "      <td>41</td>\n",
       "      <td>0</td>\n",
       "      <td>NaN</td>\n",
       "      <td>NaN</td>\n",
       "      <td>NaN</td>\n",
       "      <td>1</td>\n",
       "      <td>NaN</td>\n",
       "    </tr>\n",
       "    <tr>\n",
       "      <th>4</th>\n",
       "      <td>7208109</td>\n",
       "      <td>A Room with Private Shower</td>\n",
       "      <td>28650375</td>\n",
       "      <td>2015-03-02</td>\n",
       "      <td>7.0</td>\n",
       "      <td>7.0</td>\n",
       "      <td>Kingston upon Thames</td>\n",
       "      <td>51.396161</td>\n",
       "      <td>-0.249821</td>\n",
       "      <td>House</td>\n",
       "      <td>...</td>\n",
       "      <td>2</td>\n",
       "      <td>2</td>\n",
       "      <td>17</td>\n",
       "      <td>17</td>\n",
       "      <td>0</td>\n",
       "      <td>NaN</td>\n",
       "      <td>NaN</td>\n",
       "      <td>NaN</td>\n",
       "      <td>7</td>\n",
       "      <td>NaN</td>\n",
       "    </tr>\n",
       "    <tr>\n",
       "      <th>...</th>\n",
       "      <td>...</td>\n",
       "      <td>...</td>\n",
       "      <td>...</td>\n",
       "      <td>...</td>\n",
       "      <td>...</td>\n",
       "      <td>...</td>\n",
       "      <td>...</td>\n",
       "      <td>...</td>\n",
       "      <td>...</td>\n",
       "      <td>...</td>\n",
       "      <td>...</td>\n",
       "      <td>...</td>\n",
       "      <td>...</td>\n",
       "      <td>...</td>\n",
       "      <td>...</td>\n",
       "      <td>...</td>\n",
       "      <td>...</td>\n",
       "      <td>...</td>\n",
       "      <td>...</td>\n",
       "      <td>...</td>\n",
       "      <td>...</td>\n",
       "    </tr>\n",
       "    <tr>\n",
       "      <th>25356</th>\n",
       "      <td>6627278</td>\n",
       "      <td>Traditional Boat central London</td>\n",
       "      <td>34687835</td>\n",
       "      <td>2015-05-31</td>\n",
       "      <td>3.0</td>\n",
       "      <td>3.0</td>\n",
       "      <td>Tower Hamlets</td>\n",
       "      <td>51.506149</td>\n",
       "      <td>-0.073534</td>\n",
       "      <td>Boat</td>\n",
       "      <td>...</td>\n",
       "      <td>4</td>\n",
       "      <td>20</td>\n",
       "      <td>48</td>\n",
       "      <td>322</td>\n",
       "      <td>30</td>\n",
       "      <td>2015-06-08</td>\n",
       "      <td>2015-08-24</td>\n",
       "      <td>88.0</td>\n",
       "      <td>3</td>\n",
       "      <td>10.23</td>\n",
       "    </tr>\n",
       "    <tr>\n",
       "      <th>25357</th>\n",
       "      <td>7114635</td>\n",
       "      <td>1 room with city skyline view.</td>\n",
       "      <td>37269405</td>\n",
       "      <td>2015-07-01</td>\n",
       "      <td>1.0</td>\n",
       "      <td>1.0</td>\n",
       "      <td>Tower Hamlets</td>\n",
       "      <td>51.503237</td>\n",
       "      <td>-0.064633</td>\n",
       "      <td>Apartment</td>\n",
       "      <td>...</td>\n",
       "      <td>30</td>\n",
       "      <td>60</td>\n",
       "      <td>90</td>\n",
       "      <td>91</td>\n",
       "      <td>2</td>\n",
       "      <td>2015-08-07</td>\n",
       "      <td>2015-08-20</td>\n",
       "      <td>100.0</td>\n",
       "      <td>1</td>\n",
       "      <td>2.00</td>\n",
       "    </tr>\n",
       "    <tr>\n",
       "      <th>25358</th>\n",
       "      <td>1427321</td>\n",
       "      <td>Penthouse with a great view</td>\n",
       "      <td>7676463</td>\n",
       "      <td>2013-07-23</td>\n",
       "      <td>1.0</td>\n",
       "      <td>1.0</td>\n",
       "      <td>Tower Hamlets</td>\n",
       "      <td>51.492840</td>\n",
       "      <td>-0.026990</td>\n",
       "      <td>Apartment</td>\n",
       "      <td>...</td>\n",
       "      <td>30</td>\n",
       "      <td>60</td>\n",
       "      <td>90</td>\n",
       "      <td>365</td>\n",
       "      <td>0</td>\n",
       "      <td>NaN</td>\n",
       "      <td>NaN</td>\n",
       "      <td>NaN</td>\n",
       "      <td>1</td>\n",
       "      <td>NaN</td>\n",
       "    </tr>\n",
       "    <tr>\n",
       "      <th>25359</th>\n",
       "      <td>6352154</td>\n",
       "      <td>Duplex Penthouse Themes Balcony1bed</td>\n",
       "      <td>30092694</td>\n",
       "      <td>2015-03-27</td>\n",
       "      <td>2.0</td>\n",
       "      <td>2.0</td>\n",
       "      <td>Tower Hamlets</td>\n",
       "      <td>51.508997</td>\n",
       "      <td>-0.041481</td>\n",
       "      <td>Apartment</td>\n",
       "      <td>...</td>\n",
       "      <td>26</td>\n",
       "      <td>26</td>\n",
       "      <td>26</td>\n",
       "      <td>267</td>\n",
       "      <td>0</td>\n",
       "      <td>NaN</td>\n",
       "      <td>NaN</td>\n",
       "      <td>NaN</td>\n",
       "      <td>1</td>\n",
       "      <td>NaN</td>\n",
       "    </tr>\n",
       "    <tr>\n",
       "      <th>25360</th>\n",
       "      <td>6701584</td>\n",
       "      <td>Fantastic New 1BD flat in Greenwich</td>\n",
       "      <td>4684939</td>\n",
       "      <td>2013-01-13</td>\n",
       "      <td>1.0</td>\n",
       "      <td>1.0</td>\n",
       "      <td>Greenwich</td>\n",
       "      <td>51.476859</td>\n",
       "      <td>-0.020151</td>\n",
       "      <td>Apartment</td>\n",
       "      <td>...</td>\n",
       "      <td>0</td>\n",
       "      <td>0</td>\n",
       "      <td>0</td>\n",
       "      <td>54</td>\n",
       "      <td>4</td>\n",
       "      <td>2015-08-02</td>\n",
       "      <td>2015-08-31</td>\n",
       "      <td>100.0</td>\n",
       "      <td>1</td>\n",
       "      <td>3.64</td>\n",
       "    </tr>\n",
       "  </tbody>\n",
       "</table>\n",
       "<p>25361 rows × 26 columns</p>\n",
       "</div>"
      ],
      "text/plain": [
       "            id                                 name   host_id  host_since  \\\n",
       "0       375799  Luxury apartment : London/Wimbledon   1889832  2012-03-09   \n",
       "1      2284438         Bright and comfy double room  11629266  2014-01-25   \n",
       "2      4356007        Luxury victorian family homel  22611343  2014-10-16   \n",
       "3      7031432     Ground floor bedroom in Kingston  36862552  2015-06-27   \n",
       "4      7208109           A Room with Private Shower  28650375  2015-03-02   \n",
       "...        ...                                  ...       ...         ...   \n",
       "25356  6627278      Traditional Boat central London  34687835  2015-05-31   \n",
       "25357  7114635       1 room with city skyline view.  37269405  2015-07-01   \n",
       "25358  1427321          Penthouse with a great view   7676463  2013-07-23   \n",
       "25359  6352154  Duplex Penthouse Themes Balcony1bed  30092694  2015-03-27   \n",
       "25360  6701584  Fantastic New 1BD flat in Greenwich   4684939  2013-01-13   \n",
       "\n",
       "       host_listings_count  host_total_listings_count neighbourhood_cleansed  \\\n",
       "0                      2.0                        2.0   Kingston upon Thames   \n",
       "1                      1.0                        1.0   Kingston upon Thames   \n",
       "2                      2.0                        2.0   Kingston upon Thames   \n",
       "3                      1.0                        1.0   Kingston upon Thames   \n",
       "4                      7.0                        7.0   Kingston upon Thames   \n",
       "...                    ...                        ...                    ...   \n",
       "25356                  3.0                        3.0          Tower Hamlets   \n",
       "25357                  1.0                        1.0          Tower Hamlets   \n",
       "25358                  1.0                        1.0          Tower Hamlets   \n",
       "25359                  2.0                        2.0          Tower Hamlets   \n",
       "25360                  1.0                        1.0              Greenwich   \n",
       "\n",
       "        latitude  longitude property_type  ... availability_30  \\\n",
       "0      51.402958  -0.250436     Apartment  ...               0   \n",
       "1      51.395467  -0.309492     Apartment  ...               2   \n",
       "2      51.414746  -0.289594         House  ...               1   \n",
       "3      51.428335  -0.303721         House  ...               0   \n",
       "4      51.396161  -0.249821         House  ...               2   \n",
       "...          ...        ...           ...  ...             ...   \n",
       "25356  51.506149  -0.073534          Boat  ...               4   \n",
       "25357  51.503237  -0.064633     Apartment  ...              30   \n",
       "25358  51.492840  -0.026990     Apartment  ...              30   \n",
       "25359  51.508997  -0.041481     Apartment  ...              26   \n",
       "25360  51.476859  -0.020151     Apartment  ...               0   \n",
       "\n",
       "       availability_60  availability_90  availability_365  number_of_reviews  \\\n",
       "0                   13               43               318                 42   \n",
       "1                   32               62               337                 20   \n",
       "2                    9               22               276                  6   \n",
       "3                    0                0                41                  0   \n",
       "4                    2               17                17                  0   \n",
       "...                ...              ...               ...                ...   \n",
       "25356               20               48               322                 30   \n",
       "25357               60               90                91                  2   \n",
       "25358               60               90               365                  0   \n",
       "25359               26               26               267                  0   \n",
       "25360                0                0                54                  4   \n",
       "\n",
       "      first_review  last_review  review_scores_rating  \\\n",
       "0       2012-05-21   2015-07-11                  98.0   \n",
       "1       2014-02-16   2015-08-19                  97.0   \n",
       "2       2015-04-12   2015-08-18                 100.0   \n",
       "3              NaN          NaN                   NaN   \n",
       "4              NaN          NaN                   NaN   \n",
       "...            ...          ...                   ...   \n",
       "25356   2015-06-08   2015-08-24                  88.0   \n",
       "25357   2015-08-07   2015-08-20                 100.0   \n",
       "25358          NaN          NaN                   NaN   \n",
       "25359          NaN          NaN                   NaN   \n",
       "25360   2015-08-02   2015-08-31                 100.0   \n",
       "\n",
       "       calculated_host_listings_count  reviews_per_month  \n",
       "0                                   1               1.05  \n",
       "1                                   1               1.06  \n",
       "2                                   1               1.24  \n",
       "3                                   1                NaN  \n",
       "4                                   7                NaN  \n",
       "...                               ...                ...  \n",
       "25356                               3              10.23  \n",
       "25357                               1               2.00  \n",
       "25358                               1                NaN  \n",
       "25359                               1                NaN  \n",
       "25360                               1               3.64  \n",
       "\n",
       "[25361 rows x 26 columns]"
      ]
     },
     "execution_count": 11,
     "metadata": {},
     "output_type": "execute_result"
    }
   ],
   "source": [
    "data2015"
   ]
  },
  {
   "cell_type": "code",
   "execution_count": 41,
   "metadata": {},
   "outputs": [],
   "source": [
    "datah15=datah[datah.Year==2015]\n",
    "datah17=datah[datah.Year==2017]\n",
    "datah19=datah[datah.Year==2019]"
   ]
  },
  {
   "cell_type": "code",
   "execution_count": 13,
   "metadata": {},
   "outputs": [],
   "source": [
    "avebnb=[]\n",
    "for a in d1:\n",
    "    ave=data2015[data2015.neighbourhood_cleansed==a].price.mean()\n",
    "    avebnb.append(ave)"
   ]
  },
  {
   "cell_type": "code",
   "execution_count": 14,
   "metadata": {},
   "outputs": [
    {
     "data": {
      "text/plain": [
       "[68.67142857142858,\n",
       " 69.6268656716418,\n",
       " 63.43478260869565,\n",
       " 76.56028368794327,\n",
       " 72.32081911262799,\n",
       " 29.5,\n",
       " 64.11904761904762,\n",
       " 55.32,\n",
       " 68.15492957746478,\n",
       " 62.04938271604938,\n",
       " 51.46153846153846,\n",
       " 61.23529411764706,\n",
       " 75.98550724637681,\n",
       " 56.916666666666664,\n",
       " 81.69631578947369,\n",
       " 90.19838056680162,\n",
       " 64.06557377049181,\n",
       " 83.27322404371584,\n",
       " 29.0,\n",
       " 115.86129032258064,\n",
       " 92.0,\n",
       " 91.76503496503497,\n",
       " 103.07619689817936,\n",
       " 153.00250626566415,\n",
       " 149.06666666666666,\n",
       " 141.6796802951122,\n",
       " 118.69876126126127,\n",
       " 80.8889568675436,\n",
       " 95.45390070921985,\n",
       " 85.66588550385002,\n",
       " 57.79916317991632,\n",
       " 67.31168831168831,\n",
       " 54.76923076923077]"
      ]
     },
     "execution_count": 14,
     "metadata": {},
     "output_type": "execute_result"
    }
   ],
   "source": [
    "avebnb"
   ]
  },
  {
   "cell_type": "code",
   "execution_count": 15,
   "metadata": {},
   "outputs": [
    {
     "data": {
      "text/html": [
       "<div>\n",
       "<style scoped>\n",
       "    .dataframe tbody tr th:only-of-type {\n",
       "        vertical-align: middle;\n",
       "    }\n",
       "\n",
       "    .dataframe tbody tr th {\n",
       "        vertical-align: top;\n",
       "    }\n",
       "\n",
       "    .dataframe thead th {\n",
       "        text-align: right;\n",
       "    }\n",
       "</style>\n",
       "<table border=\"1\" class=\"dataframe\">\n",
       "  <thead>\n",
       "    <tr style=\"text-align: right;\">\n",
       "      <th></th>\n",
       "      <th>Area</th>\n",
       "      <th>Average</th>\n",
       "    </tr>\n",
       "  </thead>\n",
       "  <tbody>\n",
       "    <tr>\n",
       "      <th>0</th>\n",
       "      <td>City of London</td>\n",
       "      <td>1004</td>\n",
       "    </tr>\n",
       "    <tr>\n",
       "      <th>1</th>\n",
       "      <td>Barking and Dagenham</td>\n",
       "      <td>522</td>\n",
       "    </tr>\n",
       "    <tr>\n",
       "      <th>2</th>\n",
       "      <td>Barnet</td>\n",
       "      <td>552</td>\n",
       "    </tr>\n",
       "    <tr>\n",
       "      <th>3</th>\n",
       "      <td>Bexley</td>\n",
       "      <td>436</td>\n",
       "    </tr>\n",
       "    <tr>\n",
       "      <th>4</th>\n",
       "      <td>Brent</td>\n",
       "      <td>560</td>\n",
       "    </tr>\n",
       "    <tr>\n",
       "      <th>...</th>\n",
       "      <td>...</td>\n",
       "      <td>...</td>\n",
       "    </tr>\n",
       "    <tr>\n",
       "      <th>224</th>\n",
       "      <td>Sutton</td>\n",
       "      <td>1044</td>\n",
       "    </tr>\n",
       "    <tr>\n",
       "      <th>225</th>\n",
       "      <td>Tower Hamlets</td>\n",
       "      <td>1603</td>\n",
       "    </tr>\n",
       "    <tr>\n",
       "      <th>226</th>\n",
       "      <td>Waltham Forest</td>\n",
       "      <td>1149</td>\n",
       "    </tr>\n",
       "    <tr>\n",
       "      <th>227</th>\n",
       "      <td>Wandsworth</td>\n",
       "      <td>1768</td>\n",
       "    </tr>\n",
       "    <tr>\n",
       "      <th>228</th>\n",
       "      <td>Westminster</td>\n",
       "      <td>2990</td>\n",
       "    </tr>\n",
       "  </tbody>\n",
       "</table>\n",
       "<p>229 rows × 2 columns</p>\n",
       "</div>"
      ],
      "text/plain": [
       "                     Area  Average\n",
       "0          City of London     1004\n",
       "1    Barking and Dagenham      522\n",
       "2                  Barnet      552\n",
       "3                  Bexley      436\n",
       "4                   Brent      560\n",
       "..                    ...      ...\n",
       "224                Sutton     1044\n",
       "225         Tower Hamlets     1603\n",
       "226        Waltham Forest     1149\n",
       "227            Wandsworth     1768\n",
       "228           Westminster     2990\n",
       "\n",
       "[229 rows x 2 columns]"
      ]
     },
     "execution_count": 15,
     "metadata": {},
     "output_type": "execute_result"
    }
   ],
   "source": [
    "datah1=pd.DataFrame(datah15,columns=('Area','Average'))\n",
    "datah1"
   ]
  },
  {
   "cell_type": "code",
   "execution_count": 16,
   "metadata": {},
   "outputs": [
    {
     "data": {
      "text/plain": [
       "33"
      ]
     },
     "execution_count": 16,
     "metadata": {},
     "output_type": "execute_result"
    }
   ],
   "source": [
    "len(datah1['Area'].unique())"
   ]
  },
  {
   "cell_type": "code",
   "execution_count": 17,
   "metadata": {},
   "outputs": [],
   "source": [
    "datah1['Area']=datah1['Area'].astype('category')\n",
    "datah1['Area'].cat.reorder_categories(list(d1),inplace=True)\n",
    "datah1.sort_values('Area',inplace=True)"
   ]
  },
  {
   "cell_type": "code",
   "execution_count": 62,
   "metadata": {},
   "outputs": [
    {
     "data": {
      "text/plain": [
       "[74.87974683544304,\n",
       " 52.1880650994575,\n",
       " 56.87723785166241,\n",
       " 92.46831530139103,\n",
       " 81.24925224327019,\n",
       " 60.17171717171717,\n",
       " 57.81949458483754,\n",
       " 57.43609022556391,\n",
       " 79.97513983840895,\n",
       " 70.48814229249012,\n",
       " 56.627906976744185,\n",
       " 59.41602634467618,\n",
       " 58.702349869451695,\n",
       " 52.843537414965986,\n",
       " 83.72771672771673,\n",
       " 85.01101518309021,\n",
       " 62.29161118508655,\n",
       " 73.09923664122137,\n",
       " 48.28695652173913,\n",
       " 121.30504587155963,\n",
       " 93.6219512195122,\n",
       " 96.27583697234353,\n",
       " 104.83535281539558,\n",
       " 155.7836593785961,\n",
       " 148.44444444444446,\n",
       " 146.03693340794626,\n",
       " 117.08534964105291,\n",
       " 77.08818813468733,\n",
       " 94.13368685459112,\n",
       " 82.8973976109215,\n",
       " 68.54387139986603,\n",
       " 69.69417897480452,\n",
       " 47.65492957746479]"
      ]
     },
     "execution_count": 62,
     "metadata": {},
     "output_type": "execute_result"
    }
   ],
   "source": [
    "avebnb1=[]\n",
    "for a in d3:\n",
    "    ave=data2017[data2017.neighbourhood_cleansed==a].price.mean()\n",
    "    avebnb1.append(ave)\n",
    "avebnb1"
   ]
  },
  {
   "cell_type": "code",
   "execution_count": 63,
   "metadata": {},
   "outputs": [
    {
     "data": {
      "text/html": [
       "<div>\n",
       "<style scoped>\n",
       "    .dataframe tbody tr th:only-of-type {\n",
       "        vertical-align: middle;\n",
       "    }\n",
       "\n",
       "    .dataframe tbody tr th {\n",
       "        vertical-align: top;\n",
       "    }\n",
       "\n",
       "    .dataframe thead th {\n",
       "        text-align: right;\n",
       "    }\n",
       "</style>\n",
       "<table border=\"1\" class=\"dataframe\">\n",
       "  <thead>\n",
       "    <tr style=\"text-align: right;\">\n",
       "      <th></th>\n",
       "      <th>Area</th>\n",
       "      <th>Average</th>\n",
       "    </tr>\n",
       "  </thead>\n",
       "  <tbody>\n",
       "    <tr>\n",
       "      <th>151</th>\n",
       "      <td>Kingston upon Thames</td>\n",
       "      <td>1688</td>\n",
       "    </tr>\n",
       "    <tr>\n",
       "      <th>216</th>\n",
       "      <td>Kingston upon Thames</td>\n",
       "      <td>1333</td>\n",
       "    </tr>\n",
       "    <tr>\n",
       "      <th>53</th>\n",
       "      <td>Kingston upon Thames</td>\n",
       "      <td>749</td>\n",
       "    </tr>\n",
       "    <tr>\n",
       "      <th>20</th>\n",
       "      <td>Kingston upon Thames</td>\n",
       "      <td>509</td>\n",
       "    </tr>\n",
       "    <tr>\n",
       "      <th>119</th>\n",
       "      <td>Kingston upon Thames</td>\n",
       "      <td>1335</td>\n",
       "    </tr>\n",
       "    <tr>\n",
       "      <th>...</th>\n",
       "      <td>...</td>\n",
       "      <td>...</td>\n",
       "    </tr>\n",
       "    <tr>\n",
       "      <th>132</th>\n",
       "      <td>Barking and Dagenham</td>\n",
       "      <td>1220</td>\n",
       "    </tr>\n",
       "    <tr>\n",
       "      <th>197</th>\n",
       "      <td>Barking and Dagenham</td>\n",
       "      <td>965</td>\n",
       "    </tr>\n",
       "    <tr>\n",
       "      <th>67</th>\n",
       "      <td>Barking and Dagenham</td>\n",
       "      <td>749</td>\n",
       "    </tr>\n",
       "    <tr>\n",
       "      <th>1</th>\n",
       "      <td>Barking and Dagenham</td>\n",
       "      <td>522</td>\n",
       "    </tr>\n",
       "    <tr>\n",
       "      <th>164</th>\n",
       "      <td>Barking and Dagenham</td>\n",
       "      <td>1414</td>\n",
       "    </tr>\n",
       "  </tbody>\n",
       "</table>\n",
       "<p>229 rows × 2 columns</p>\n",
       "</div>"
      ],
      "text/plain": [
       "                     Area  Average\n",
       "151  Kingston upon Thames     1688\n",
       "216  Kingston upon Thames     1333\n",
       "53   Kingston upon Thames      749\n",
       "20   Kingston upon Thames      509\n",
       "119  Kingston upon Thames     1335\n",
       "..                    ...      ...\n",
       "132  Barking and Dagenham     1220\n",
       "197  Barking and Dagenham      965\n",
       "67   Barking and Dagenham      749\n",
       "1    Barking and Dagenham      522\n",
       "164  Barking and Dagenham     1414\n",
       "\n",
       "[229 rows x 2 columns]"
      ]
     },
     "execution_count": 63,
     "metadata": {},
     "output_type": "execute_result"
    }
   ],
   "source": [
    "datah1"
   ]
  },
  {
   "cell_type": "code",
   "execution_count": 64,
   "metadata": {},
   "outputs": [
    {
     "name": "stdout",
     "output_type": "stream",
     "text": [
      "33\n"
     ]
    }
   ],
   "source": [
    "datah2=pd.DataFrame(datah17,columns=('Area','Average'))\n",
    "datah2\n",
    "print(len(datah1['Area'].unique()))"
   ]
  },
  {
   "cell_type": "code",
   "execution_count": 65,
   "metadata": {},
   "outputs": [],
   "source": [
    "datah2['Area']=datah2['Area'].astype('category')\n",
    "datah2['Area'].cat.reorder_categories(list(d3),inplace=True)\n",
    "datah2.sort_values('Area',inplace=True)"
   ]
  },
  {
   "cell_type": "code",
   "execution_count": 66,
   "metadata": {},
   "outputs": [
    {
     "data": {
      "text/html": [
       "<div>\n",
       "<style scoped>\n",
       "    .dataframe tbody tr th:only-of-type {\n",
       "        vertical-align: middle;\n",
       "    }\n",
       "\n",
       "    .dataframe tbody tr th {\n",
       "        vertical-align: top;\n",
       "    }\n",
       "\n",
       "    .dataframe thead th {\n",
       "        text-align: right;\n",
       "    }\n",
       "</style>\n",
       "<table border=\"1\" class=\"dataframe\">\n",
       "  <thead>\n",
       "    <tr style=\"text-align: right;\">\n",
       "      <th></th>\n",
       "      <th>Area</th>\n",
       "      <th>Average</th>\n",
       "    </tr>\n",
       "  </thead>\n",
       "  <tbody>\n",
       "    <tr>\n",
       "      <th>542</th>\n",
       "      <td>Kingston upon Thames</td>\n",
       "      <td>1108</td>\n",
       "    </tr>\n",
       "    <tr>\n",
       "      <th>639</th>\n",
       "      <td>Kingston upon Thames</td>\n",
       "      <td>2594</td>\n",
       "    </tr>\n",
       "    <tr>\n",
       "      <th>509</th>\n",
       "      <td>Kingston upon Thames</td>\n",
       "      <td>916</td>\n",
       "    </tr>\n",
       "    <tr>\n",
       "      <th>575</th>\n",
       "      <td>Kingston upon Thames</td>\n",
       "      <td>1391</td>\n",
       "    </tr>\n",
       "    <tr>\n",
       "      <th>607</th>\n",
       "      <td>Kingston upon Thames</td>\n",
       "      <td>1760</td>\n",
       "    </tr>\n",
       "    <tr>\n",
       "      <th>...</th>\n",
       "      <td>...</td>\n",
       "      <td>...</td>\n",
       "    </tr>\n",
       "    <tr>\n",
       "      <th>653</th>\n",
       "      <td>Barking and Dagenham</td>\n",
       "      <td>1171</td>\n",
       "    </tr>\n",
       "    <tr>\n",
       "      <th>588</th>\n",
       "      <td>Barking and Dagenham</td>\n",
       "      <td>1356</td>\n",
       "    </tr>\n",
       "    <tr>\n",
       "      <th>523</th>\n",
       "      <td>Barking and Dagenham</td>\n",
       "      <td>943</td>\n",
       "    </tr>\n",
       "    <tr>\n",
       "      <th>490</th>\n",
       "      <td>Barking and Dagenham</td>\n",
       "      <td>746</td>\n",
       "    </tr>\n",
       "    <tr>\n",
       "      <th>457</th>\n",
       "      <td>Barking and Dagenham</td>\n",
       "      <td>547</td>\n",
       "    </tr>\n",
       "  </tbody>\n",
       "</table>\n",
       "<p>228 rows × 2 columns</p>\n",
       "</div>"
      ],
      "text/plain": [
       "                     Area  Average\n",
       "542  Kingston upon Thames     1108\n",
       "639  Kingston upon Thames     2594\n",
       "509  Kingston upon Thames      916\n",
       "575  Kingston upon Thames     1391\n",
       "607  Kingston upon Thames     1760\n",
       "..                    ...      ...\n",
       "653  Barking and Dagenham     1171\n",
       "588  Barking and Dagenham     1356\n",
       "523  Barking and Dagenham      943\n",
       "490  Barking and Dagenham      746\n",
       "457  Barking and Dagenham      547\n",
       "\n",
       "[228 rows x 2 columns]"
      ]
     },
     "execution_count": 66,
     "metadata": {},
     "output_type": "execute_result"
    }
   ],
   "source": [
    "datah2"
   ]
  },
  {
   "cell_type": "code",
   "execution_count": 91,
   "metadata": {},
   "outputs": [
    {
     "data": {
      "text/plain": [
       "50.584386724386725"
      ]
     },
     "execution_count": 91,
     "metadata": {},
     "output_type": "execute_result"
    }
   ],
   "source": [
    "aveh=[]\n",
    "for b in d1:\n",
    "    ave=datah1[datah1.Area==b].Average.mean()\n",
    "    ave=ave/30\n",
    "    aveh.append(ave)\n",
    "np.mean(aveh)"
   ]
  },
  {
   "cell_type": "code",
   "execution_count": 89,
   "metadata": {},
   "outputs": [
    {
     "data": {
      "text/plain": [
       "53.54318181818181"
      ]
     },
     "execution_count": 89,
     "metadata": {},
     "output_type": "execute_result"
    }
   ],
   "source": [
    "aveh1=[]\n",
    "for b in d3:\n",
    "    ave=datah2[datah2.Area==b].Average.mean()\n",
    "    ave=ave/30\n",
    "    aveh1.append(ave)\n",
    "aveh1\n",
    "np.mean(aveh1)"
   ]
  },
  {
   "cell_type": "code",
   "execution_count": 69,
   "metadata": {},
   "outputs": [
    {
     "data": {
      "text/plain": [
       "33"
      ]
     },
     "execution_count": 69,
     "metadata": {},
     "output_type": "execute_result"
    }
   ],
   "source": [
    "len(aveh)"
   ]
  },
  {
   "cell_type": "code",
   "execution_count": 70,
   "metadata": {},
   "outputs": [
    {
     "data": {
      "text/plain": [
       "33"
      ]
     },
     "execution_count": 70,
     "metadata": {},
     "output_type": "execute_result"
    }
   ],
   "source": [
    "len(aveh1)"
   ]
  },
  {
   "cell_type": "code",
   "execution_count": 72,
   "metadata": {},
   "outputs": [
    {
     "data": {
      "text/plain": [
       "[96.3305751765893,\n",
       " 116.12712519319938,\n",
       " 223.58669288757784,\n",
       " 225.7170905391658,\n",
       " 126.50950394065832,\n",
       " 91.05172413793103,\n",
       " 103.17630597014926,\n",
       " 150.85406112109823,\n",
       " 130.04995836802664,\n",
       " 91.05516014234875,\n",
       " 98.24743892829,\n",
       " 110.84644874899112,\n",
       " 70.18478260869566,\n",
       " 141.99384906553112,\n",
       " 70.6472972972973,\n",
       " 96.29359908010733,\n",
       " 81.35714285714286,\n",
       " 93.34625414888573,\n",
       " 113.85912408759124,\n",
       " 69.6992706992707,\n",
       " 63.87779433681073,\n",
       " 70.34630350194553,\n",
       " 89.06342620035566,\n",
       " 88.26423438363737,\n",
       " 65.76419213973799,\n",
       " 191.04978354978354,\n",
       " 60.467362924281986,\n",
       " 64.11692307692307,\n",
       " 79.3871635610766,\n",
       " 70.14305364511692,\n",
       " 80.78842676311031,\n",
       " 54.84426229508197,\n",
       " 84.36655948553054]"
      ]
     },
     "execution_count": 72,
     "metadata": {},
     "output_type": "execute_result"
    }
   ],
   "source": [
    "avebnb2=[]\n",
    "for a in d4:\n",
    "    ave=data2019[data2019.neighbourhood_cleansed==a].price.mean()\n",
    "    avebnb2.append(ave)\n",
    "avebnb2"
   ]
  },
  {
   "cell_type": "code",
   "execution_count": 74,
   "metadata": {},
   "outputs": [
    {
     "data": {
      "text/html": [
       "<div>\n",
       "<style scoped>\n",
       "    .dataframe tbody tr th:only-of-type {\n",
       "        vertical-align: middle;\n",
       "    }\n",
       "\n",
       "    .dataframe tbody tr th {\n",
       "        vertical-align: top;\n",
       "    }\n",
       "\n",
       "    .dataframe thead th {\n",
       "        text-align: right;\n",
       "    }\n",
       "</style>\n",
       "<table border=\"1\" class=\"dataframe\">\n",
       "  <thead>\n",
       "    <tr style=\"text-align: right;\">\n",
       "      <th></th>\n",
       "      <th>Area</th>\n",
       "      <th>Average</th>\n",
       "    </tr>\n",
       "  </thead>\n",
       "  <tbody>\n",
       "    <tr>\n",
       "      <th>912</th>\n",
       "      <td>Barking and Dagenham</td>\n",
       "      <td>650</td>\n",
       "    </tr>\n",
       "    <tr>\n",
       "      <th>913</th>\n",
       "      <td>Barnet</td>\n",
       "      <td>602</td>\n",
       "    </tr>\n",
       "    <tr>\n",
       "      <th>914</th>\n",
       "      <td>Bexley</td>\n",
       "      <td>577</td>\n",
       "    </tr>\n",
       "    <tr>\n",
       "      <th>915</th>\n",
       "      <td>Brent</td>\n",
       "      <td>638</td>\n",
       "    </tr>\n",
       "    <tr>\n",
       "      <th>916</th>\n",
       "      <td>Bromley</td>\n",
       "      <td>569</td>\n",
       "    </tr>\n",
       "    <tr>\n",
       "      <th>...</th>\n",
       "      <td>...</td>\n",
       "      <td>...</td>\n",
       "    </tr>\n",
       "    <tr>\n",
       "      <th>1134</th>\n",
       "      <td>Sutton</td>\n",
       "      <td>1130</td>\n",
       "    </tr>\n",
       "    <tr>\n",
       "      <th>1135</th>\n",
       "      <td>Tower Hamlets</td>\n",
       "      <td>1773</td>\n",
       "    </tr>\n",
       "    <tr>\n",
       "      <th>1136</th>\n",
       "      <td>Waltham Forest</td>\n",
       "      <td>1314</td>\n",
       "    </tr>\n",
       "    <tr>\n",
       "      <th>1137</th>\n",
       "      <td>Wandsworth</td>\n",
       "      <td>1828</td>\n",
       "    </tr>\n",
       "    <tr>\n",
       "      <th>1138</th>\n",
       "      <td>Westminster</td>\n",
       "      <td>2832</td>\n",
       "    </tr>\n",
       "  </tbody>\n",
       "</table>\n",
       "<p>227 rows × 2 columns</p>\n",
       "</div>"
      ],
      "text/plain": [
       "                      Area  Average\n",
       "912   Barking and Dagenham      650\n",
       "913                 Barnet      602\n",
       "914                 Bexley      577\n",
       "915                  Brent      638\n",
       "916                Bromley      569\n",
       "...                    ...      ...\n",
       "1134                Sutton     1130\n",
       "1135         Tower Hamlets     1773\n",
       "1136        Waltham Forest     1314\n",
       "1137            Wandsworth     1828\n",
       "1138           Westminster     2832\n",
       "\n",
       "[227 rows x 2 columns]"
      ]
     },
     "execution_count": 74,
     "metadata": {},
     "output_type": "execute_result"
    }
   ],
   "source": [
    "datah3=pd.DataFrame(datah19,columns=('Area','Average'))\n",
    "datah3"
   ]
  },
  {
   "cell_type": "code",
   "execution_count": 76,
   "metadata": {},
   "outputs": [
    {
     "data": {
      "text/html": [
       "<div>\n",
       "<style scoped>\n",
       "    .dataframe tbody tr th:only-of-type {\n",
       "        vertical-align: middle;\n",
       "    }\n",
       "\n",
       "    .dataframe tbody tr th {\n",
       "        vertical-align: top;\n",
       "    }\n",
       "\n",
       "    .dataframe thead th {\n",
       "        text-align: right;\n",
       "    }\n",
       "</style>\n",
       "<table border=\"1\" class=\"dataframe\">\n",
       "  <thead>\n",
       "    <tr style=\"text-align: right;\">\n",
       "      <th></th>\n",
       "      <th>Area</th>\n",
       "      <th>Average</th>\n",
       "    </tr>\n",
       "  </thead>\n",
       "  <tbody>\n",
       "    <tr>\n",
       "      <th>1127</th>\n",
       "      <td>Lambeth</td>\n",
       "      <td>1751</td>\n",
       "    </tr>\n",
       "    <tr>\n",
       "      <th>932</th>\n",
       "      <td>Lambeth</td>\n",
       "      <td>603</td>\n",
       "    </tr>\n",
       "    <tr>\n",
       "      <th>1094</th>\n",
       "      <td>Lambeth</td>\n",
       "      <td>3108</td>\n",
       "    </tr>\n",
       "    <tr>\n",
       "      <th>964</th>\n",
       "      <td>Lambeth</td>\n",
       "      <td>984</td>\n",
       "    </tr>\n",
       "    <tr>\n",
       "      <th>1030</th>\n",
       "      <td>Lambeth</td>\n",
       "      <td>1711</td>\n",
       "    </tr>\n",
       "    <tr>\n",
       "      <th>...</th>\n",
       "      <td>...</td>\n",
       "      <td>...</td>\n",
       "    </tr>\n",
       "    <tr>\n",
       "      <th>1004</th>\n",
       "      <td>Sutton</td>\n",
       "      <td>920</td>\n",
       "    </tr>\n",
       "    <tr>\n",
       "      <th>1037</th>\n",
       "      <td>Sutton</td>\n",
       "      <td>1166</td>\n",
       "    </tr>\n",
       "    <tr>\n",
       "      <th>938</th>\n",
       "      <td>Sutton</td>\n",
       "      <td>561</td>\n",
       "    </tr>\n",
       "    <tr>\n",
       "      <th>971</th>\n",
       "      <td>Sutton</td>\n",
       "      <td>738</td>\n",
       "    </tr>\n",
       "    <tr>\n",
       "      <th>1069</th>\n",
       "      <td>Sutton</td>\n",
       "      <td>1489</td>\n",
       "    </tr>\n",
       "  </tbody>\n",
       "</table>\n",
       "<p>227 rows × 2 columns</p>\n",
       "</div>"
      ],
      "text/plain": [
       "         Area  Average\n",
       "1127  Lambeth     1751\n",
       "932   Lambeth      603\n",
       "1094  Lambeth     3108\n",
       "964   Lambeth      984\n",
       "1030  Lambeth     1711\n",
       "...       ...      ...\n",
       "1004   Sutton      920\n",
       "1037   Sutton     1166\n",
       "938    Sutton      561\n",
       "971    Sutton      738\n",
       "1069   Sutton     1489\n",
       "\n",
       "[227 rows x 2 columns]"
      ]
     },
     "execution_count": 76,
     "metadata": {},
     "output_type": "execute_result"
    }
   ],
   "source": [
    "datah3['Area']=datah3['Area'].astype('category')\n",
    "datah3['Area'].cat.reorder_categories(list(d4),inplace=True)\n",
    "datah3.sort_values('Area',inplace=True)\n",
    "datah3"
   ]
  },
  {
   "cell_type": "code",
   "execution_count": 90,
   "metadata": {},
   "outputs": [
    {
     "data": {
      "text/plain": [
       "53.61449013949014"
      ]
     },
     "execution_count": 90,
     "metadata": {},
     "output_type": "execute_result"
    }
   ],
   "source": [
    "aveh2=[]\n",
    "for b in d4:\n",
    "    ave=datah3[datah3.Area==b].Average.mean()\n",
    "    ave=ave/30\n",
    "    aveh2.append(ave)\n",
    "aveh2\n",
    "np.mean(aveh2)"
   ]
  },
  {
   "cell_type": "code",
   "execution_count": 78,
   "metadata": {},
   "outputs": [
    {
     "data": {
      "text/plain": [
       "33"
      ]
     },
     "execution_count": 78,
     "metadata": {},
     "output_type": "execute_result"
    }
   ],
   "source": [
    "len(aveh2)"
   ]
  },
  {
   "cell_type": "code",
   "execution_count": 93,
   "metadata": {},
   "outputs": [
    {
     "data": {
      "image/png": "[encoded data removed]",
      "text/plain": [
       "<Figure size 1440x1080 with 1 Axes>"
      ]
     },
     "metadata": {
      "needs_background": "light"
     },
     "output_type": "display_data"
    }
   ],
   "source": [
    "plt.figure(figsize=(20,15))\n",
    "box_1,box_2,box_3,box_4,box_5,box_6=avebnb,aveh,avebnb1,aveh1,avebnb2,aveh2\n",
    "labels='Airbnb(2015)','london houses(2015)','Airbnb(2017)','london houses(2017)','Airbnb(2019)','london houses(2019)'\n",
    "plt.ylabel('Average price',fontsize=20)\n",
    "plt.xticks(fontsize=15)\n",
    "plt.yticks(fontsize=15)\n",
    "plt.boxplot([box_1,box_2,box_3,box_4,box_5,box_6],notch=False,labels=labels);"
   ]
  },
  {
   "cell_type": "code",
   "execution_count": 103,
   "metadata": {},
   "outputs": [
    {
     "data": {
      "text/html": [
       "<div>\n",
       "<style scoped>\n",
       "    .dataframe tbody tr th:only-of-type {\n",
       "        vertical-align: middle;\n",
       "    }\n",
       "\n",
       "    .dataframe tbody tr th {\n",
       "        vertical-align: top;\n",
       "    }\n",
       "\n",
       "    .dataframe thead th {\n",
       "        text-align: right;\n",
       "    }\n",
       "</style>\n",
       "<table border=\"1\" class=\"dataframe\">\n",
       "  <thead>\n",
       "    <tr style=\"text-align: right;\">\n",
       "      <th></th>\n",
       "      <th>bnb15</th>\n",
       "      <th>lh15</th>\n",
       "      <th>bnb17</th>\n",
       "      <th>lh17</th>\n",
       "      <th>bnb19</th>\n",
       "      <th>lh19</th>\n",
       "    </tr>\n",
       "  </thead>\n",
       "  <tbody>\n",
       "    <tr>\n",
       "      <th>count</th>\n",
       "      <td>33.000000</td>\n",
       "      <td>33.000000</td>\n",
       "      <td>33.000000</td>\n",
       "      <td>33.000000</td>\n",
       "      <td>33.000000</td>\n",
       "      <td>33.000000</td>\n",
       "    </tr>\n",
       "    <tr>\n",
       "      <th>mean</th>\n",
       "      <td>79.716030</td>\n",
       "      <td>50.584387</td>\n",
       "      <td>81.423042</td>\n",
       "      <td>53.543182</td>\n",
       "      <td>101.921603</td>\n",
       "      <td>53.614490</td>\n",
       "    </tr>\n",
       "    <tr>\n",
       "      <th>std</th>\n",
       "      <td>29.688632</td>\n",
       "      <td>21.311912</td>\n",
       "      <td>29.001037</td>\n",
       "      <td>20.269613</td>\n",
       "      <td>43.108019</td>\n",
       "      <td>19.133320</td>\n",
       "    </tr>\n",
       "    <tr>\n",
       "      <th>min</th>\n",
       "      <td>29.000000</td>\n",
       "      <td>29.695238</td>\n",
       "      <td>47.654930</td>\n",
       "      <td>33.519048</td>\n",
       "      <td>54.844262</td>\n",
       "      <td>33.409524</td>\n",
       "    </tr>\n",
       "    <tr>\n",
       "      <th>25%</th>\n",
       "      <td>62.049383</td>\n",
       "      <td>37.804762</td>\n",
       "      <td>58.702350</td>\n",
       "      <td>42.200000</td>\n",
       "      <td>70.346304</td>\n",
       "      <td>42.185714</td>\n",
       "    </tr>\n",
       "    <tr>\n",
       "      <th>50%</th>\n",
       "      <td>72.320819</td>\n",
       "      <td>46.542857</td>\n",
       "      <td>74.879747</td>\n",
       "      <td>49.495238</td>\n",
       "      <td>91.051724</td>\n",
       "      <td>48.595238</td>\n",
       "    </tr>\n",
       "    <tr>\n",
       "      <th>75%</th>\n",
       "      <td>91.765035</td>\n",
       "      <td>54.738095</td>\n",
       "      <td>93.621951</td>\n",
       "      <td>57.890476</td>\n",
       "      <td>113.859124</td>\n",
       "      <td>58.723810</td>\n",
       "    </tr>\n",
       "    <tr>\n",
       "      <th>max</th>\n",
       "      <td>153.002506</td>\n",
       "      <td>125.209524</td>\n",
       "      <td>155.783659</td>\n",
       "      <td>135.042857</td>\n",
       "      <td>225.717091</td>\n",
       "      <td>121.433333</td>\n",
       "    </tr>\n",
       "  </tbody>\n",
       "</table>\n",
       "</div>"
      ],
      "text/plain": [
       "            bnb15        lh15       bnb17        lh17       bnb19        lh19\n",
       "count   33.000000   33.000000   33.000000   33.000000   33.000000   33.000000\n",
       "mean    79.716030   50.584387   81.423042   53.543182  101.921603   53.614490\n",
       "std     29.688632   21.311912   29.001037   20.269613   43.108019   19.133320\n",
       "min     29.000000   29.695238   47.654930   33.519048   54.844262   33.409524\n",
       "25%     62.049383   37.804762   58.702350   42.200000   70.346304   42.185714\n",
       "50%     72.320819   46.542857   74.879747   49.495238   91.051724   48.595238\n",
       "75%     91.765035   54.738095   93.621951   57.890476  113.859124   58.723810\n",
       "max    153.002506  125.209524  155.783659  135.042857  225.717091  121.433333"
      ]
     },
     "execution_count": 103,
     "metadata": {},
     "output_type": "execute_result"
    }
   ],
   "source": [
    "df=pd.DataFrame({'bnb15':avebnb,'lh15':aveh,'bnb17':avebnb1,'lh17':aveh1,'bnb19':avebnb2,'lh19':aveh2})\n",
    "df.describe()"
   ]
  },
  {
   "cell_type": "code",
   "execution_count": 105,
   "metadata": {},
   "outputs": [],
   "source": [
    "df.to_csv('bnb_lh.csv',index=None,encoding='utf8')"
   ]
  },
  {
   "cell_type": "code",
   "execution_count": 80,
   "metadata": {},
   "outputs": [
    {
     "name": "stdout",
     "output_type": "stream",
     "text": [
      "                            OLS Regression Results                            \n",
      "==============================================================================\n",
      "Dep. Variable:                      y   R-squared:                       0.740\n",
      "Model:                            OLS   Adj. R-squared:                  0.732\n",
      "Method:                 Least Squares   F-statistic:                     88.22\n",
      "Date:                Thu, 10 Dec 2020   Prob (F-statistic):           1.40e-10\n",
      "Time:                        11:14:00   Log-Likelihood:                -125.05\n",
      "No. Observations:                  33   AIC:                             254.1\n",
      "Df Residuals:                      31   BIC:                             257.1\n",
      "Df Model:                           1                                         \n",
      "Covariance Type:            nonrobust                                         \n",
      "==============================================================================\n",
      "                 coef    std err          t      P>|t|      [0.025      0.975]\n",
      "------------------------------------------------------------------------------\n",
      "const          1.3593      5.582      0.244      0.809     -10.026      12.744\n",
      "x1             0.6175      0.066      9.393      0.000       0.483       0.752\n",
      "==============================================================================\n",
      "Omnibus:                        6.039   Durbin-Watson:                   2.818\n",
      "Prob(Omnibus):                  0.049   Jarque-Bera (JB):                6.444\n",
      "Skew:                           0.347   Prob(JB):                       0.0399\n",
      "Kurtosis:                       5.051   Cond. No.                         247.\n",
      "==============================================================================\n",
      "\n",
      "Notes:\n",
      "[1] Standard Errors assume that the covariance matrix of the errors is correctly specified.\n",
      "\n",
      "gradient  = 0.617505649110122\n",
      "intercept = 1.3592876456497063\n",
      "predictor coefficients = [0.61750565]\n",
      "constant               = 1.3592876456497063\n",
      "Rsquared               = 0.7399756315272967\n",
      "MSE                    = 121.91219666472858\n",
      "pvalue    = 1.4007210929391442e-10\n",
      "T-test pvalues         = [1.40072109e-10]\n",
      "F-test pvalue          = 1.4007210929391442e-10\n"
     ]
    }
   ],
   "source": [
    "y_values=aveh\n",
    "x_values=avebnb\n",
    "X_values = sms.add_constant(x_values)\n",
    "regression_model_a = sms.OLS(y_values,X_values)\n",
    "regression_model_b = regression_model_a.fit()\n",
    "print(regression_model_b.summary())\n",
    "print()\n",
    "predictor_coeffs  = regression_model_b.params[1:]\n",
    "constant          = regression_model_b.params[0] # called the 'intercept' in simple regression\n",
    "Rsquared          = regression_model_b.rsquared\n",
    "MSE               = regression_model_b.mse_resid\n",
    "pvalues_T         = regression_model_b.pvalues[1:]\n",
    "pvalue_F          = regression_model_b.f_pvalue\n",
    "gradient  = regression_model_b.params[1]\n",
    "intercept = regression_model_b.params[0]\n",
    "pvalue    = regression_model_b.f_pvalue\n",
    "print(\"gradient  =\", regression_model_b.params[1])\n",
    "print(\"intercept =\", regression_model_b.params[0])\n",
    "print(\"predictor coefficients =\", predictor_coeffs)\n",
    "print(\"constant               =\", constant)\n",
    "print(\"Rsquared               =\", Rsquared)\n",
    "print(\"MSE                    =\", MSE)\n",
    "print(\"pvalue    =\", regression_model_b.f_pvalue)\n",
    "print(\"T-test pvalues         =\", pvalues_T)\n",
    "print(\"F-test pvalue          =\", pvalue_F)"
   ]
  },
  {
   "cell_type": "code",
   "execution_count": 81,
   "metadata": {},
   "outputs": [
    {
     "data": {
      "image/png": "[encoded data removed]",
      "text/plain": [
       "<Figure size 720x576 with 1 Axes>"
      ]
     },
     "metadata": {
      "needs_background": "light"
     },
     "output_type": "display_data"
    }
   ],
   "source": [
    "x_lobf = [min(x_values),max(x_values)]\n",
    "y_lobf = [x_lobf[0]*gradient + intercept,x_lobf[1]*gradient + intercept]\n",
    "plt.figure(figsize=(10,8))\n",
    "plt.xlabel('Average Airbnb price(2015)',fontsize=20)\n",
    "plt.ylabel('Average London house price(2015)',fontsize=20)\n",
    "plt.plot(x_values,y_values,'b.',x_lobf,y_lobf,'r--');"
   ]
  },
  {
   "cell_type": "code",
   "execution_count": 82,
   "metadata": {},
   "outputs": [
    {
     "data": {
      "text/plain": [
       "array([[1.        , 0.86021836],\n",
       "       [0.86021836, 1.        ]])"
      ]
     },
     "execution_count": 82,
     "metadata": {},
     "output_type": "execute_result"
    }
   ],
   "source": [
    "cor=np.corrcoef(avebnb,aveh)\n",
    "cor"
   ]
  },
  {
   "cell_type": "code",
   "execution_count": 83,
   "metadata": {},
   "outputs": [
    {
     "data": {
      "image/png": "[encoded data removed]",
      "text/plain": [
       "<Figure size 720x576 with 1 Axes>"
      ]
     },
     "metadata": {
      "needs_background": "light"
     },
     "output_type": "display_data"
    }
   ],
   "source": [
    "plt.figure(figsize=(10,8))\n",
    "plt.xlabel('Average Airbnb price(2015)',fontsize=20)\n",
    "plt.ylabel('Average London house price(2015)',fontsize=20)\n",
    "plt.scatter(avebnb,aveh);"
   ]
  },
  {
   "cell_type": "code",
   "execution_count": 84,
   "metadata": {},
   "outputs": [
    {
     "data": {
      "text/plain": [
       "0.8602183627005975"
      ]
     },
     "execution_count": 84,
     "metadata": {},
     "output_type": "execute_result"
    }
   ],
   "source": [
    "X1=pd.Series(avebnb)\n",
    "Y1=pd.Series(aveh)\n",
    "  \n",
    "X1.mean() \n",
    "Y1.mean() \n",
    "X1.var() \n",
    "Y1.var() \n",
    "  \n",
    "X1.std() \n",
    "Y1.std() \n",
    "X1.cov(Y1) \n",
    "  \n",
    "X1.corr(Y1,method=\"pearson\") \n",
    "X1.cov(Y1)/(X1.std()*Y1.std())"
   ]
  },
  {
   "cell_type": "code",
   "execution_count": 85,
   "metadata": {},
   "outputs": [
    {
     "name": "stdout",
     "output_type": "stream",
     "text": [
      "0.847927807486631\n"
     ]
    }
   ],
   "source": [
    "x1=X1.dropna()\n",
    "y1=Y1.dropna()\n",
    "n=x1.count()\n",
    "x1.index=np.arange(n)\n",
    "y1.index=np.arange(n) \n",
    "r=x1.corr(y1,method='spearman')\n",
    "print(r) "
   ]
  },
  {
   "cell_type": "code",
   "execution_count": 31,
   "metadata": {},
   "outputs": [
    {
     "data": {
      "image/png": "[encoded data removed]",
      "text/plain": [
       "<Figure size 720x576 with 1 Axes>"
      ]
     },
     "metadata": {
      "needs_background": "light"
     },
     "output_type": "display_data"
    }
   ],
   "source": [
    "plt.figure(figsize=(10,8))\n",
    "plt.xlabel('Average Airbnb price(2015)',fontsize=20)\n",
    "plt.ylabel('Average London house price(2015)',fontsize=20)\n",
    "sns.regplot(x=avebnb,y=aveh);"
   ]
  },
  {
   "cell_type": "code",
   "execution_count": 118,
   "metadata": {},
   "outputs": [
    {
     "name": "stdout",
     "output_type": "stream",
     "text": [
      "                            OLS Regression Results                            \n",
      "==============================================================================\n",
      "Dep. Variable:                      y   R-squared:                       0.768\n",
      "Model:                            OLS   Adj. R-squared:                  0.760\n",
      "Method:                 Least Squares   F-statistic:                     102.5\n",
      "Date:                Thu, 10 Dec 2020   Prob (F-statistic):           2.38e-11\n",
      "Time:                        12:24:37   Log-Likelihood:                -121.52\n",
      "No. Observations:                  33   AIC:                             247.0\n",
      "Df Residuals:                      31   BIC:                             250.0\n",
      "Df Model:                           1                                         \n",
      "Covariance Type:            nonrobust                                         \n",
      "==============================================================================\n",
      "                 coef    std err          t      P>|t|      [0.025      0.975]\n",
      "------------------------------------------------------------------------------\n",
      "const          3.6766      5.219      0.704      0.486      -6.968      14.321\n",
      "x1             0.6124      0.060     10.125      0.000       0.489       0.736\n",
      "==============================================================================\n",
      "Omnibus:                       15.286   Durbin-Watson:                   2.451\n",
      "Prob(Omnibus):                  0.000   Jarque-Bera (JB):               38.222\n",
      "Skew:                           0.749   Prob(JB):                     5.01e-09\n",
      "Kurtosis:                       8.055   Cond. No.                         261.\n",
      "==============================================================================\n",
      "\n",
      "Notes:\n",
      "[1] Standard Errors assume that the covariance matrix of the errors is correctly specified.\n",
      "\n",
      "gradient  = 0.6124378756789116\n",
      "intercept = 3.6766269701442944\n",
      "predictor coefficients = [0.61243788]\n",
      "constant               = 3.6766269701442944\n",
      "Rsquared               = 0.7678214103421819\n",
      "MSE                    = 98.4694164470476\n",
      "pvalue    = 2.379431046794261e-11\n",
      "T-test pvalues         = [2.37943105e-11]\n",
      "F-test pvalue          = 2.379431046794261e-11\n"
     ]
    }
   ],
   "source": [
    "y_values=aveh1\n",
    "x_values=avebnb1\n",
    "X_values = sms.add_constant(x_values)\n",
    "regression_model_a = sms.OLS(y_values,X_values)\n",
    "regression_model_b = regression_model_a.fit()\n",
    "print(regression_model_b.summary())\n",
    "print()\n",
    "predictor_coeffs  = regression_model_b.params[1:]\n",
    "constant          = regression_model_b.params[0] # called the 'intercept' in simple regression\n",
    "Rsquared          = regression_model_b.rsquared\n",
    "MSE               = regression_model_b.mse_resid\n",
    "pvalues_T         = regression_model_b.pvalues[1:]\n",
    "pvalue_F          = regression_model_b.f_pvalue\n",
    "gradient  = regression_model_b.params[1]\n",
    "intercept = regression_model_b.params[0]\n",
    "pvalue    = regression_model_b.f_pvalue\n",
    "print(\"gradient  =\", regression_model_b.params[1])\n",
    "print(\"intercept =\", regression_model_b.params[0])\n",
    "print(\"predictor coefficients =\", predictor_coeffs)\n",
    "print(\"constant               =\", constant)\n",
    "print(\"Rsquared               =\", Rsquared)\n",
    "print(\"MSE                    =\", MSE)\n",
    "print(\"pvalue    =\", regression_model_b.f_pvalue)\n",
    "print(\"T-test pvalues         =\", pvalues_T)\n",
    "print(\"F-test pvalue          =\", pvalue_F)"
   ]
  },
  {
   "cell_type": "code",
   "execution_count": 119,
   "metadata": {},
   "outputs": [
    {
     "data": {
      "image/png": "[encoded data removed]",
      "text/plain": [
       "<Figure size 720x576 with 1 Axes>"
      ]
     },
     "metadata": {
      "needs_background": "light"
     },
     "output_type": "display_data"
    }
   ],
   "source": [
    "x_lobf = [min(x_values),max(x_values)]\n",
    "y_lobf = [x_lobf[0]*gradient + intercept,x_lobf[1]*gradient + intercept]\n",
    "plt.figure(figsize=(10,8))\n",
    "plt.xlabel('Average Airbnb price(2017)',fontsize=20)\n",
    "plt.ylabel('Average London house price(2017)',fontsize=20)\n",
    "plt.plot(x_values,y_values,'b.',x_lobf,y_lobf,'r--');"
   ]
  },
  {
   "cell_type": "code",
   "execution_count": 109,
   "metadata": {},
   "outputs": [
    {
     "data": {
      "text/plain": [
       "0.876254192767248"
      ]
     },
     "execution_count": 109,
     "metadata": {},
     "output_type": "execute_result"
    }
   ],
   "source": [
    "X1=pd.Series(avebnb1)\n",
    "Y1=pd.Series(aveh1)\n",
    "  \n",
    "X1.mean() \n",
    "Y1.mean() \n",
    "X1.var() \n",
    "Y1.var() \n",
    "  \n",
    "X1.std() \n",
    "Y1.std() \n",
    "X1.cov(Y1) \n",
    "  \n",
    "X1.corr(Y1,method=\"pearson\") \n",
    "X1.cov(Y1)/(X1.std()*Y1.std())"
   ]
  },
  {
   "cell_type": "code",
   "execution_count": 110,
   "metadata": {},
   "outputs": [
    {
     "name": "stdout",
     "output_type": "stream",
     "text": [
      "0.9047459893048129\n"
     ]
    }
   ],
   "source": [
    "x1=X1.dropna()\n",
    "y1=Y1.dropna()\n",
    "n=x1.count()\n",
    "x1.index=np.arange(n)\n",
    "y1.index=np.arange(n) \n",
    "r=x1.corr(y1,method='spearman')\n",
    "print(r) "
   ]
  },
  {
   "cell_type": "code",
   "execution_count": 111,
   "metadata": {},
   "outputs": [
    {
     "name": "stdout",
     "output_type": "stream",
     "text": [
      "                            OLS Regression Results                            \n",
      "==============================================================================\n",
      "Dep. Variable:                      y   R-squared:                       0.900\n",
      "Model:                            OLS   Adj. R-squared:                  0.897\n",
      "Method:                 Least Squares   F-statistic:                     278.9\n",
      "Date:                Thu, 10 Dec 2020   Prob (F-statistic):           4.74e-17\n",
      "Time:                        12:21:35   Log-Likelihood:                -105.73\n",
      "No. Observations:                  33   AIC:                             215.5\n",
      "Df Residuals:                      31   BIC:                             218.4\n",
      "Df Model:                           1                                         \n",
      "Covariance Type:            nonrobust                                         \n",
      "==============================================================================\n",
      "                 coef    std err          t      P>|t|      [0.025      0.975]\n",
      "------------------------------------------------------------------------------\n",
      "const         10.6991      2.784      3.844      0.001       5.022      16.376\n",
      "x1             0.4211      0.025     16.701      0.000       0.370       0.472\n",
      "==============================================================================\n",
      "Omnibus:                        2.608   Durbin-Watson:                   2.376\n",
      "Prob(Omnibus):                  0.271   Jarque-Bera (JB):                1.538\n",
      "Skew:                           0.035   Prob(JB):                        0.463\n",
      "Kurtosis:                       4.055   Cond. No.                         287.\n",
      "==============================================================================\n",
      "\n",
      "Notes:\n",
      "[1] Standard Errors assume that the covariance matrix of the errors is correctly specified.\n",
      "\n",
      "gradient  = 0.4210625967575428\n",
      "intercept = 10.699115418456131\n",
      "predictor coefficients = [0.4210626]\n",
      "constant               = 10.699115418456131\n",
      "Rsquared               = 0.8999715473842654\n",
      "MSE                    = 37.80006283514677\n",
      "pvalue    = 4.743584752710722e-17\n",
      "T-test pvalues         = [4.74358475e-17]\n",
      "F-test pvalue          = 4.743584752710722e-17\n"
     ]
    }
   ],
   "source": [
    "y_values=aveh2\n",
    "x_values=avebnb2\n",
    "X_values = sms.add_constant(x_values)\n",
    "regression_model_a = sms.OLS(y_values,X_values)\n",
    "regression_model_b = regression_model_a.fit()\n",
    "print(regression_model_b.summary())\n",
    "print()\n",
    "predictor_coeffs  = regression_model_b.params[1:]\n",
    "constant          = regression_model_b.params[0] # called the 'intercept' in simple regression\n",
    "Rsquared          = regression_model_b.rsquared\n",
    "MSE               = regression_model_b.mse_resid\n",
    "pvalues_T         = regression_model_b.pvalues[1:]\n",
    "pvalue_F          = regression_model_b.f_pvalue\n",
    "gradient  = regression_model_b.params[1]\n",
    "intercept = regression_model_b.params[0]\n",
    "pvalue    = regression_model_b.f_pvalue\n",
    "print(\"gradient  =\", regression_model_b.params[1])\n",
    "print(\"intercept =\", regression_model_b.params[0])\n",
    "print(\"predictor coefficients =\", predictor_coeffs)\n",
    "print(\"constant               =\", constant)\n",
    "print(\"Rsquared               =\", Rsquared)\n",
    "print(\"MSE                    =\", MSE)\n",
    "print(\"pvalue    =\", regression_model_b.f_pvalue)\n",
    "print(\"T-test pvalues         =\", pvalues_T)\n",
    "print(\"F-test pvalue          =\", pvalue_F)"
   ]
  },
  {
   "cell_type": "code",
   "execution_count": 112,
   "metadata": {},
   "outputs": [
    {
     "data": {
      "image/png": "[encoded data removed]",
      "text/plain": [
       "<Figure size 720x576 with 1 Axes>"
      ]
     },
     "metadata": {
      "needs_background": "light"
     },
     "output_type": "display_data"
    }
   ],
   "source": [
    "x_lobf = [min(x_values),max(x_values)]\n",
    "y_lobf = [x_lobf[0]*gradient + intercept,x_lobf[1]*gradient + intercept]\n",
    "plt.figure(figsize=(10,8))\n",
    "plt.xlabel('Average Airbnb price(2019)',fontsize=20)\n",
    "plt.ylabel('Average London house price(2019)',fontsize=20)\n",
    "plt.plot(x_values,y_values,'b.',x_lobf,y_lobf,'r--');"
   ]
  },
  {
   "cell_type": "code",
   "execution_count": 115,
   "metadata": {},
   "outputs": [
    {
     "data": {
      "text/plain": [
       "0.9486683020868072"
      ]
     },
     "execution_count": 115,
     "metadata": {},
     "output_type": "execute_result"
    }
   ],
   "source": [
    "X1=pd.Series(avebnb2)\n",
    "Y1=pd.Series(aveh2)\n",
    "  \n",
    "X1.mean() \n",
    "Y1.mean() \n",
    "X1.var() \n",
    "Y1.var() \n",
    "  \n",
    "X1.std() \n",
    "Y1.std() \n",
    "X1.cov(Y1) \n",
    "  \n",
    "X1.corr(Y1,method=\"pearson\") \n",
    "X1.cov(Y1)/(X1.std()*Y1.std())"
   ]
  },
  {
   "cell_type": "code",
   "execution_count": 116,
   "metadata": {},
   "outputs": [
    {
     "name": "stdout",
     "output_type": "stream",
     "text": [
      "0.911096256684492\n"
     ]
    }
   ],
   "source": [
    "x1=X1.dropna()\n",
    "y1=Y1.dropna()\n",
    "n=x1.count()\n",
    "x1.index=np.arange(n)\n",
    "y1.index=np.arange(n) \n",
    "r=x1.corr(y1,method='spearman')\n",
    "print(r) "
   ]
  },
  {
   "cell_type": "code",
   "execution_count": null,
   "metadata": {},
   "outputs": [],
   "source": []
  }
 ],
 "metadata": {
  "kernelspec": {
   "display_name": "Python 3",
   "language": "python",
   "name": "python3"
  },
  "language_info": {
   "codemirror_mode": {
    "name": "ipython",
    "version": 3
   },
   "file_extension": ".py",
   "mimetype": "text/x-python",
   "name": "python",
   "nbconvert_exporter": "python",
   "pygments_lexer": "ipython3",
   "version": "3.7.8"
  }
 },
 "nbformat": 4,
 "nbformat_minor": 4
}
