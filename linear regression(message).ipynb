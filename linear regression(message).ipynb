{
 "cells": [
  {
   "cell_type": "code",
   "execution_count": 24,
   "metadata": {},
   "outputs": [],
   "source": [
    "import matplotlib.pyplot as plt\n",
    "import statsmodels.api as sms\n",
    "import numpy as np\n",
    "import pandas as pd"
   ]
  },
  {
   "cell_type": "code",
   "execution_count": 25,
   "metadata": {},
   "outputs": [
    {
     "data": {
      "text/html": [
       "<div>\n",
       "<style scoped>\n",
       "    .dataframe tbody tr th:only-of-type {\n",
       "        vertical-align: middle;\n",
       "    }\n",
       "\n",
       "    .dataframe tbody tr th {\n",
       "        vertical-align: top;\n",
       "    }\n",
       "\n",
       "    .dataframe thead th {\n",
       "        text-align: right;\n",
       "    }\n",
       "</style>\n",
       "<table border=\"1\" class=\"dataframe\">\n",
       "  <thead>\n",
       "    <tr style=\"text-align: right;\">\n",
       "      <th></th>\n",
       "      <th>all_male</th>\n",
       "      <th>all_female</th>\n",
       "      <th>l_male</th>\n",
       "      <th>l_female</th>\n",
       "      <th>mb_male</th>\n",
       "      <th>mb_female</th>\n",
       "      <th>nm_male</th>\n",
       "      <th>nm_female</th>\n",
       "      <th>ua_male</th>\n",
       "      <th>ua_female</th>\n",
       "    </tr>\n",
       "  </thead>\n",
       "  <tbody>\n",
       "    <tr>\n",
       "      <th>0</th>\n",
       "      <td>0.294936</td>\n",
       "      <td>0.513507</td>\n",
       "      <td>0.294936</td>\n",
       "      <td>0.513507</td>\n",
       "      <td>0.166857</td>\n",
       "      <td>0.240774</td>\n",
       "      <td>0.177475</td>\n",
       "      <td>0.295175</td>\n",
       "      <td>0.171636</td>\n",
       "      <td>0.343342</td>\n",
       "    </tr>\n",
       "    <tr>\n",
       "      <th>1</th>\n",
       "      <td>0.180504</td>\n",
       "      <td>0.247701</td>\n",
       "      <td>0.180504</td>\n",
       "      <td>0.247701</td>\n",
       "      <td>0.185483</td>\n",
       "      <td>0.495127</td>\n",
       "      <td>0.208660</td>\n",
       "      <td>0.303786</td>\n",
       "      <td>0.188841</td>\n",
       "      <td>0.240171</td>\n",
       "    </tr>\n",
       "    <tr>\n",
       "      <th>2</th>\n",
       "      <td>0.236952</td>\n",
       "      <td>0.330038</td>\n",
       "      <td>0.236952</td>\n",
       "      <td>0.330038</td>\n",
       "      <td>0.207433</td>\n",
       "      <td>0.271839</td>\n",
       "      <td>0.180677</td>\n",
       "      <td>0.373116</td>\n",
       "      <td>0.425364</td>\n",
       "      <td>0.909128</td>\n",
       "    </tr>\n",
       "    <tr>\n",
       "      <th>3</th>\n",
       "      <td>0.309493</td>\n",
       "      <td>0.498249</td>\n",
       "      <td>0.309493</td>\n",
       "      <td>0.498249</td>\n",
       "      <td>0.351786</td>\n",
       "      <td>0.678826</td>\n",
       "      <td>0.315695</td>\n",
       "      <td>0.691196</td>\n",
       "      <td>0.265482</td>\n",
       "      <td>0.579242</td>\n",
       "    </tr>\n",
       "    <tr>\n",
       "      <th>4</th>\n",
       "      <td>0.168128</td>\n",
       "      <td>0.370513</td>\n",
       "      <td>0.168128</td>\n",
       "      <td>0.370513</td>\n",
       "      <td>0.261270</td>\n",
       "      <td>0.335414</td>\n",
       "      <td>0.147269</td>\n",
       "      <td>0.268565</td>\n",
       "      <td>0.464022</td>\n",
       "      <td>0.579193</td>\n",
       "    </tr>\n",
       "    <tr>\n",
       "      <th>...</th>\n",
       "      <td>...</td>\n",
       "      <td>...</td>\n",
       "      <td>...</td>\n",
       "      <td>...</td>\n",
       "      <td>...</td>\n",
       "      <td>...</td>\n",
       "      <td>...</td>\n",
       "      <td>...</td>\n",
       "      <td>...</td>\n",
       "      <td>...</td>\n",
       "    </tr>\n",
       "    <tr>\n",
       "      <th>147</th>\n",
       "      <td>0.074944</td>\n",
       "      <td>0.145863</td>\n",
       "      <td>NaN</td>\n",
       "      <td>NaN</td>\n",
       "      <td>NaN</td>\n",
       "      <td>NaN</td>\n",
       "      <td>NaN</td>\n",
       "      <td>NaN</td>\n",
       "      <td>NaN</td>\n",
       "      <td>NaN</td>\n",
       "    </tr>\n",
       "    <tr>\n",
       "      <th>148</th>\n",
       "      <td>0.197165</td>\n",
       "      <td>0.385551</td>\n",
       "      <td>NaN</td>\n",
       "      <td>NaN</td>\n",
       "      <td>NaN</td>\n",
       "      <td>NaN</td>\n",
       "      <td>NaN</td>\n",
       "      <td>NaN</td>\n",
       "      <td>NaN</td>\n",
       "      <td>NaN</td>\n",
       "    </tr>\n",
       "    <tr>\n",
       "      <th>149</th>\n",
       "      <td>0.263571</td>\n",
       "      <td>0.422252</td>\n",
       "      <td>NaN</td>\n",
       "      <td>NaN</td>\n",
       "      <td>NaN</td>\n",
       "      <td>NaN</td>\n",
       "      <td>NaN</td>\n",
       "      <td>NaN</td>\n",
       "      <td>NaN</td>\n",
       "      <td>NaN</td>\n",
       "    </tr>\n",
       "    <tr>\n",
       "      <th>150</th>\n",
       "      <td>0.083254</td>\n",
       "      <td>0.118316</td>\n",
       "      <td>NaN</td>\n",
       "      <td>NaN</td>\n",
       "      <td>NaN</td>\n",
       "      <td>NaN</td>\n",
       "      <td>NaN</td>\n",
       "      <td>NaN</td>\n",
       "      <td>NaN</td>\n",
       "      <td>NaN</td>\n",
       "    </tr>\n",
       "    <tr>\n",
       "      <th>151</th>\n",
       "      <td>0.531740</td>\n",
       "      <td>0.781393</td>\n",
       "      <td>NaN</td>\n",
       "      <td>NaN</td>\n",
       "      <td>NaN</td>\n",
       "      <td>NaN</td>\n",
       "      <td>NaN</td>\n",
       "      <td>NaN</td>\n",
       "      <td>NaN</td>\n",
       "      <td>NaN</td>\n",
       "    </tr>\n",
       "  </tbody>\n",
       "</table>\n",
       "<p>152 rows × 10 columns</p>\n",
       "</div>"
      ],
      "text/plain": [
       "     all_male  all_female    l_male  l_female   mb_male  mb_female   nm_male  \\\n",
       "0    0.294936    0.513507  0.294936  0.513507  0.166857   0.240774  0.177475   \n",
       "1    0.180504    0.247701  0.180504  0.247701  0.185483   0.495127  0.208660   \n",
       "2    0.236952    0.330038  0.236952  0.330038  0.207433   0.271839  0.180677   \n",
       "3    0.309493    0.498249  0.309493  0.498249  0.351786   0.678826  0.315695   \n",
       "4    0.168128    0.370513  0.168128  0.370513  0.261270   0.335414  0.147269   \n",
       "..        ...         ...       ...       ...       ...        ...       ...   \n",
       "147  0.074944    0.145863       NaN       NaN       NaN        NaN       NaN   \n",
       "148  0.197165    0.385551       NaN       NaN       NaN        NaN       NaN   \n",
       "149  0.263571    0.422252       NaN       NaN       NaN        NaN       NaN   \n",
       "150  0.083254    0.118316       NaN       NaN       NaN        NaN       NaN   \n",
       "151  0.531740    0.781393       NaN       NaN       NaN        NaN       NaN   \n",
       "\n",
       "     nm_female   ua_male  ua_female  \n",
       "0     0.295175  0.171636   0.343342  \n",
       "1     0.303786  0.188841   0.240171  \n",
       "2     0.373116  0.425364   0.909128  \n",
       "3     0.691196  0.265482   0.579242  \n",
       "4     0.268565  0.464022   0.579193  \n",
       "..         ...       ...        ...  \n",
       "147        NaN       NaN        NaN  \n",
       "148        NaN       NaN        NaN  \n",
       "149        NaN       NaN        NaN  \n",
       "150        NaN       NaN        NaN  \n",
       "151        NaN       NaN        NaN  \n",
       "\n",
       "[152 rows x 10 columns]"
      ]
     },
     "execution_count": 25,
     "metadata": {},
     "output_type": "execute_result"
    }
   ],
   "source": [
    "data = pd.read_csv('coursework.csv')\n",
    "data"
   ]
  },
  {
   "cell_type": "code",
   "execution_count": null,
   "metadata": {},
   "outputs": [],
   "source": [
    "x_values = data['all_male']\n",
    "y_values = data['all_female']\n",
    "x_values=list(x_values)\n",
    "x_values"
   ]
  },
  {
   "cell_type": "code",
   "execution_count": 27,
   "metadata": {},
   "outputs": [
    {
     "name": "stdout",
     "output_type": "stream",
     "text": [
      "                            OLS Regression Results                            \n",
      "==============================================================================\n",
      "Dep. Variable:             all_female   R-squared:                       0.722\n",
      "Model:                            OLS   Adj. R-squared:                  0.721\n",
      "Method:                 Least Squares   F-statistic:                     390.5\n",
      "Date:                Thu, 12 Nov 2020   Prob (F-statistic):           1.36e-43\n",
      "Time:                        17:53:25   Log-Likelihood:                 139.60\n",
      "No. Observations:                 152   AIC:                            -275.2\n",
      "Df Residuals:                     150   BIC:                            -269.2\n",
      "Df Model:                           1                                         \n",
      "Covariance Type:            nonrobust                                         \n",
      "==============================================================================\n",
      "                 coef    std err          t      P>|t|      [0.025      0.975]\n",
      "------------------------------------------------------------------------------\n",
      "const          0.0435      0.021      2.043      0.043       0.001       0.086\n",
      "x1             1.5833      0.080     19.760      0.000       1.425       1.742\n",
      "==============================================================================\n",
      "Omnibus:                        9.936   Durbin-Watson:                   1.968\n",
      "Prob(Omnibus):                  0.007   Jarque-Bera (JB):                9.962\n",
      "Skew:                           0.575   Prob(JB):                      0.00687\n",
      "Kurtosis:                       3.501   Cond. No.                         10.8\n",
      "==============================================================================\n",
      "\n",
      "Notes:\n",
      "[1] Standard Errors assume that the covariance matrix of the errors is correctly specified.\n",
      "This is for all\n",
      "gradient = 1.583255471991745\n",
      "intercept = 0.04351380900096359\n",
      "Rsquared  = 0.7224561145492093\n",
      "MSE       = 0.009452506491614138\n",
      "pvalue    = 1.356902900939624e-43\n"
     ]
    }
   ],
   "source": [
    "x_values = sms.add_constant(x_values)\n",
    "regression_model_a=sms.OLS(y_values,x_values)\n",
    "regression_model_b=regression_model_a.fit()\n",
    "print(regression_model_b.summary())\n",
    "print('This is for all')\n",
    "gradient = regression_model_b.params[1]\n",
    "intercept = regression_model_b.params[0]\n",
    "Rsquared = regression_model_b.rsquared\n",
    "MSE      = regression_model_b.mse_resid\n",
    "pvalue   = regression_model_b.f_pvalue\n",
    "\n",
    "print('gradient =',regression_model_b.params[1])\n",
    "print(\"intercept =\", regression_model_b.params[0])\n",
    "print(\"Rsquared  =\", regression_model_b.rsquared)\n",
    "print(\"MSE       =\", regression_model_b.mse_resid)\n",
    "print(\"pvalue    =\", regression_model_b.f_pvalue)\n",
    "\n"
   ]
  },
  {
   "cell_type": "code",
   "execution_count": 51,
   "metadata": {},
   "outputs": [
    {
     "data": {
      "image/png": "[encoded data removed]",
      "text/plain": [
       "<Figure size 432x288 with 1 Axes>"
      ]
     },
     "metadata": {
      "needs_background": "light"
     },
     "output_type": "display_data"
    }
   ],
   "source": [
    "#data.all_male.plot.hist()\n",
    "df=pd.DataFrame(data['all_male'],columns=['all_male'])\n",
    "df['all_female']=data['all_female']\n",
    "ax=df.plot.kde(alpha=0.5)"
   ]
  },
  {
   "cell_type": "code",
   "execution_count": 17,
   "metadata": {},
   "outputs": [],
   "source": [
    "l_m=data['l_male']\n",
    "l_f=data['l_female']\n",
    "m_m=data['mb_male']\n",
    "m_f=data['mb_female']\n",
    "n_m=data['nm_male']\n",
    "n_f=data['nm_female']\n",
    "u_m=data['ua_male']\n",
    "u_f=data['ua_female']\n",
    "l_m=[l_m_ for l_m_ in l_m if l_m_ == l_m_ ]\n",
    "l_f=[l_f_ for l_f_ in l_f if l_f_ == l_f_ ]\n",
    "m_m=[m_m_ for m_m_ in m_m if m_m_ == m_m_ ]\n",
    "m_f=[m_f_ for m_f_ in m_f if m_f_ == m_f_ ]\n",
    "n_m=[n_m_ for n_m_ in n_m if n_m_ == n_m_ ]\n",
    "n_f=[n_f_ for n_f_ in n_f if n_f_ == n_f_ ]\n",
    "u_m=[u_m_ for u_m_ in u_m if u_m_ == u_m_ ]\n",
    "u_f=[u_f_ for u_f_ in u_f if u_f_ == u_f_ ]"
   ]
  },
  {
   "cell_type": "code",
   "execution_count": null,
   "metadata": {},
   "outputs": [],
   "source": [
    "x_values1 = l_m\n",
    "y_values1 = l_f\n",
    "x_values1"
   ]
  },
  {
   "cell_type": "code",
   "execution_count": 71,
   "metadata": {},
   "outputs": [
    {
     "name": "stdout",
     "output_type": "stream",
     "text": [
      "                            OLS Regression Results                            \n",
      "==============================================================================\n",
      "Dep. Variable:                      y   R-squared:                       0.568\n",
      "Model:                            OLS   Adj. R-squared:                  0.554\n",
      "Method:                 Least Squares   F-statistic:                     39.44\n",
      "Date:                Thu, 12 Nov 2020   Prob (F-statistic):           6.39e-07\n",
      "Time:                        15:18:44   Log-Likelihood:                 40.471\n",
      "No. Observations:                  32   AIC:                            -76.94\n",
      "Df Residuals:                      30   BIC:                            -74.01\n",
      "Df Model:                           1                                         \n",
      "Covariance Type:            nonrobust                                         \n",
      "==============================================================================\n",
      "                 coef    std err          t      P>|t|      [0.025      0.975]\n",
      "------------------------------------------------------------------------------\n",
      "const          0.0174      0.056      0.309      0.759      -0.097       0.132\n",
      "x1             1.5141      0.241      6.280      0.000       1.022       2.006\n",
      "==============================================================================\n",
      "Omnibus:                        0.604   Durbin-Watson:                   2.246\n",
      "Prob(Omnibus):                  0.739   Jarque-Bera (JB):                0.379\n",
      "Skew:                           0.261   Prob(JB):                        0.827\n",
      "Kurtosis:                       2.894   Cond. No.                         20.3\n",
      "==============================================================================\n",
      "\n",
      "Notes:\n",
      "[1] Standard Errors assume that the covariance matrix of the errors is correctly specified.\n",
      "This is for london_borough\n",
      "gradient = 1.5140839824304868\n",
      "intercept = 0.0173791976534287\n",
      "Rsquared  = 0.5679625522780729\n",
      "MSE       = 0.004977759343121753\n",
      "pvalue    = 6.391708121478664e-07\n"
     ]
    }
   ],
   "source": [
    "x_values1 = sms.add_constant(x_values1)\n",
    "regression_model_a=sms.OLS(y_values1,x_values1)\n",
    "regression_model_b=regression_model_a.fit()\n",
    "print(regression_model_b.summary())\n",
    "print('This is for london_borough')\n",
    "gradient = regression_model_b.params[1]\n",
    "intercept = regression_model_b.params[0]\n",
    "Rsquared = regression_model_b.rsquared\n",
    "MSE      = regression_model_b.mse_resid\n",
    "pvalue   = regression_model_b.f_pvalue\n",
    "\n",
    "print('gradient =',regression_model_b.params[1])\n",
    "print(\"intercept =\", regression_model_b.params[0])\n",
    "print(\"Rsquared  =\", regression_model_b.rsquared)\n",
    "print(\"MSE       =\", regression_model_b.mse_resid)\n",
    "print(\"pvalue    =\", regression_model_b.f_pvalue)"
   ]
  },
  {
   "cell_type": "code",
   "execution_count": 50,
   "metadata": {},
   "outputs": [
    {
     "data": {
      "image/png": "[encoded data removed]",
      "text/plain": [
       "<Figure size 432x288 with 1 Axes>"
      ]
     },
     "metadata": {
      "needs_background": "light"
     },
     "output_type": "display_data"
    }
   ],
   "source": [
    "df1=pd.DataFrame(data['l_male'],columns=['l_male'])\n",
    "df1['l_female']=data['l_female']\n",
    "ax=df1.plot.kde(alpha=0.5)"
   ]
  },
  {
   "cell_type": "code",
   "execution_count": 73,
   "metadata": {},
   "outputs": [
    {
     "name": "stdout",
     "output_type": "stream",
     "text": [
      "                            OLS Regression Results                            \n",
      "==============================================================================\n",
      "Dep. Variable:                      y   R-squared:                       0.651\n",
      "Model:                            OLS   Adj. R-squared:                  0.641\n",
      "Method:                 Least Squares   F-statistic:                     63.37\n",
      "Date:                Thu, 12 Nov 2020   Prob (F-statistic):           2.83e-09\n",
      "Time:                        15:19:51   Log-Likelihood:                 25.253\n",
      "No. Observations:                  36   AIC:                            -46.51\n",
      "Df Residuals:                      34   BIC:                            -43.34\n",
      "Df Model:                           1                                         \n",
      "Covariance Type:            nonrobust                                         \n",
      "==============================================================================\n",
      "                 coef    std err          t      P>|t|      [0.025      0.975]\n",
      "------------------------------------------------------------------------------\n",
      "const          0.1113      0.055      2.039      0.049       0.000       0.222\n",
      "x1             1.4006      0.176      7.961      0.000       1.043       1.758\n",
      "==============================================================================\n",
      "Omnibus:                        3.939   Durbin-Watson:                   1.627\n",
      "Prob(Omnibus):                  0.140   Jarque-Bera (JB):                3.383\n",
      "Skew:                           0.748   Prob(JB):                        0.184\n",
      "Kurtosis:                       2.876   Cond. No.                         9.27\n",
      "==============================================================================\n",
      "\n",
      "Notes:\n",
      "[1] Standard Errors assume that the covariance matrix of the errors is correctly specified.\n",
      "This is for metropolitan_borough\n",
      "gradient = 1.4005922266425996\n",
      "intercept = 0.11131691748376772\n",
      "Rsquared  = 0.6508300138621601\n",
      "MSE       = 0.015242934689644676\n",
      "pvalue    = 2.8290555503790605e-09\n"
     ]
    }
   ],
   "source": [
    "x_values2 = m_m\n",
    "y_values2 = m_f\n",
    "x_values2 = sms.add_constant(x_values2)\n",
    "regression_model_a=sms.OLS(y_values2,x_values2)\n",
    "regression_model_b=regression_model_a.fit()\n",
    "print(regression_model_b.summary())\n",
    "print('This is for metropolitan_borough')\n",
    "gradient = regression_model_b.params[1]\n",
    "intercept = regression_model_b.params[0]\n",
    "Rsquared = regression_model_b.rsquared\n",
    "MSE      = regression_model_b.mse_resid\n",
    "pvalue   = regression_model_b.f_pvalue\n",
    "\n",
    "print('gradient =',regression_model_b.params[1])\n",
    "print(\"intercept =\", regression_model_b.params[0])\n",
    "print(\"Rsquared  =\", regression_model_b.rsquared)\n",
    "print(\"MSE       =\", regression_model_b.mse_resid)\n",
    "print(\"pvalue    =\", regression_model_b.f_pvalue)"
   ]
  },
  {
   "cell_type": "code",
   "execution_count": 39,
   "metadata": {},
   "outputs": [
    {
     "data": {
      "image/png": "[encoded data removed]",
      "text/plain": [
       "<Figure size 432x288 with 1 Axes>"
      ]
     },
     "metadata": {
      "needs_background": "light"
     },
     "output_type": "display_data"
    }
   ],
   "source": [
    "df2=pd.DataFrame(data['mb_male'],columns=['mb_male'])\n",
    "df2['mb_female']=data['mb_female']\n",
    "ax=df2.plot.kde(alpha=0.5)"
   ]
  },
  {
   "cell_type": "code",
   "execution_count": 74,
   "metadata": {},
   "outputs": [
    {
     "name": "stdout",
     "output_type": "stream",
     "text": [
      "                            OLS Regression Results                            \n",
      "==============================================================================\n",
      "Dep. Variable:                      y   R-squared:                       0.888\n",
      "Model:                            OLS   Adj. R-squared:                  0.884\n",
      "Method:                 Least Squares   F-statistic:                     198.4\n",
      "Date:                Thu, 12 Nov 2020   Prob (F-statistic):           2.15e-13\n",
      "Time:                        15:21:41   Log-Likelihood:                 41.034\n",
      "No. Observations:                  27   AIC:                            -78.07\n",
      "Df Residuals:                      25   BIC:                            -75.48\n",
      "Df Model:                           1                                         \n",
      "Covariance Type:            nonrobust                                         \n",
      "==============================================================================\n",
      "                 coef    std err          t      P>|t|      [0.025      0.975]\n",
      "------------------------------------------------------------------------------\n",
      "const         -0.0080      0.033     -0.245      0.809      -0.076       0.059\n",
      "x1             1.8078      0.128     14.085      0.000       1.543       2.072\n",
      "==============================================================================\n",
      "Omnibus:                        5.006   Durbin-Watson:                   1.334\n",
      "Prob(Omnibus):                  0.082   Jarque-Bera (JB):                3.196\n",
      "Skew:                           0.653   Prob(JB):                        0.202\n",
      "Kurtosis:                       4.065   Cond. No.                         12.8\n",
      "==============================================================================\n",
      "\n",
      "Notes:\n",
      "[1] Standard Errors assume that the covariance matrix of the errors is correctly specified.\n",
      "This is for non_metropolitan_county\n",
      "gradient = 1.8078441277319304\n",
      "intercept = -0.008024496882244714\n",
      "Rsquared  = 0.8880873310817758\n",
      "MSE       = 0.00302613472621894\n",
      "pvalue    = 2.154693068772561e-13\n"
     ]
    }
   ],
   "source": [
    "x_values3 = n_m\n",
    "y_values3 = n_f\n",
    "x_values3 = sms.add_constant(x_values3)\n",
    "regression_model_a=sms.OLS(y_values3,x_values3)\n",
    "regression_model_b=regression_model_a.fit()\n",
    "print(regression_model_b.summary())\n",
    "print('This is for non_metropolitan_county')\n",
    "gradient = regression_model_b.params[1]\n",
    "intercept = regression_model_b.params[0]\n",
    "Rsquared = regression_model_b.rsquared\n",
    "MSE      = regression_model_b.mse_resid\n",
    "pvalue   = regression_model_b.f_pvalue\n",
    "\n",
    "print('gradient =',regression_model_b.params[1])\n",
    "print(\"intercept =\", regression_model_b.params[0])\n",
    "print(\"Rsquared  =\", regression_model_b.rsquared)\n",
    "print(\"MSE       =\", regression_model_b.mse_resid)\n",
    "print(\"pvalue    =\", regression_model_b.f_pvalue)"
   ]
  },
  {
   "cell_type": "code",
   "execution_count": 52,
   "metadata": {},
   "outputs": [
    {
     "data": {
      "image/png": "[encoded data removed]",
      "text/plain": [
       "<Figure size 432x288 with 1 Axes>"
      ]
     },
     "metadata": {
      "needs_background": "light"
     },
     "output_type": "display_data"
    }
   ],
   "source": [
    "df3=pd.DataFrame(data['nm_male'],columns=['nm_male'])\n",
    "df3['nm_female']=data['nm_female']\n",
    "ax=df3.plot.kde(alpha=0.5)"
   ]
  },
  {
   "cell_type": "code",
   "execution_count": 75,
   "metadata": {},
   "outputs": [
    {
     "name": "stdout",
     "output_type": "stream",
     "text": [
      "                            OLS Regression Results                            \n",
      "==============================================================================\n",
      "Dep. Variable:                      y   R-squared:                       0.738\n",
      "Model:                            OLS   Adj. R-squared:                  0.733\n",
      "Method:                 Least Squares   F-statistic:                     152.2\n",
      "Date:                Thu, 12 Nov 2020   Prob (F-statistic):           2.43e-17\n",
      "Time:                        15:22:30   Log-Likelihood:                 49.120\n",
      "No. Observations:                  56   AIC:                            -94.24\n",
      "Df Residuals:                      54   BIC:                            -90.19\n",
      "Df Model:                           1                                         \n",
      "Covariance Type:            nonrobust                                         \n",
      "==============================================================================\n",
      "                 coef    std err          t      P>|t|      [0.025      0.975]\n",
      "------------------------------------------------------------------------------\n",
      "const          0.0435      0.034      1.270      0.210      -0.025       0.112\n",
      "x1             1.6299      0.132     12.338      0.000       1.365       1.895\n",
      "==============================================================================\n",
      "Omnibus:                        0.016   Durbin-Watson:                   2.412\n",
      "Prob(Omnibus):                  0.992   Jarque-Bera (JB):                0.132\n",
      "Skew:                           0.037   Prob(JB):                        0.936\n",
      "Kurtosis:                       2.774   Cond. No.                         10.2\n",
      "==============================================================================\n",
      "\n",
      "Notes:\n",
      "[1] Standard Errors assume that the covariance matrix of the errors is correctly specified.\n",
      "This is for unitary_authority\n",
      "gradient = 1.629879951803325\n",
      "intercept = 0.04354913900757139\n",
      "Rsquared  = 0.7381397331712902\n",
      "MSE       = 0.010505986203007887\n",
      "pvalue    = 2.425672252423721e-17\n"
     ]
    }
   ],
   "source": [
    "x_values4 = u_m\n",
    "y_values4 = u_f\n",
    "x_values4 = sms.add_constant(x_values4)\n",
    "regression_model_a=sms.OLS(y_values4,x_values4)\n",
    "regression_model_b=regression_model_a.fit()\n",
    "print(regression_model_b.summary())\n",
    "print('This is for unitary_authority')\n",
    "gradient = regression_model_b.params[1]\n",
    "intercept = regression_model_b.params[0]\n",
    "Rsquared = regression_model_b.rsquared\n",
    "MSE      = regression_model_b.mse_resid\n",
    "pvalue   = regression_model_b.f_pvalue\n",
    "\n",
    "print('gradient =',regression_model_b.params[1])\n",
    "print(\"intercept =\", regression_model_b.params[0])\n",
    "print(\"Rsquared  =\", regression_model_b.rsquared)\n",
    "print(\"MSE       =\", regression_model_b.mse_resid)\n",
    "print(\"pvalue    =\", regression_model_b.f_pvalue)"
   ]
  },
  {
   "cell_type": "code",
   "execution_count": 53,
   "metadata": {},
   "outputs": [
    {
     "data": {
      "image/png": "[encoded data removed]",
      "text/plain": [
       "<Figure size 432x288 with 1 Axes>"
      ]
     },
     "metadata": {
      "needs_background": "light"
     },
     "output_type": "display_data"
    }
   ],
   "source": [
    "df4=pd.DataFrame(data['ua_male'],columns=['ua_male'])\n",
    "df4['ua_female']=data['ua_female']\n",
    "ax=df4.plot.kde(alpha=0.5)"
   ]
  },
  {
   "cell_type": "code",
   "execution_count": null,
   "metadata": {},
   "outputs": [],
   "source": []
  }
 ],
 "metadata": {
  "kernelspec": {
   "display_name": "Python 3",
   "language": "python",
   "name": "python3"
  },
  "language_info": {
   "codemirror_mode": {
    "name": "ipython",
    "version": 3
   },
   "file_extension": ".py",
   "mimetype": "text/x-python",
   "name": "python",
   "nbconvert_exporter": "python",
   "pygments_lexer": "ipython3",
   "version": "3.7.8"
  }
 },
 "nbformat": 4,
 "nbformat_minor": 4
}
